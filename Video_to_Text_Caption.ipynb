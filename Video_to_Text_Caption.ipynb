{
  "cells": [
    {
      "cell_type": "markdown",
      "metadata": {
        "id": "view-in-github",
        "colab_type": "text"
      },
      "source": [
        "<a href=\"https://colab.research.google.com/github/mohamedalifaragitiai/Video-captioning-using-deep-learning-with-greedy-search/blob/main/Video_to_Text_Caption.ipynb\" target=\"_parent\"><img src=\"https://colab.research.google.com/assets/colab-badge.svg\" alt=\"Open In Colab\"/></a>"
      ]
    },
    {
      "cell_type": "code",
      "execution_count": null,
      "metadata": {
        "id": "cLqcrWjbcFk9"
      },
      "outputs": [],
      "source": [
        "import pandas as pd\n",
        "import os\n",
        "import numpy as np\n",
        "\n",
        "import tensorflow as tf\n",
        "from tensorflow import keras\n",
        "import tensorflow.keras.backend as K\n",
        "import tensorflow_hub as hub\n",
        "import cv2\n",
        "\n",
        "%matplotlib inline\n",
        "import matplotlib.pyplot as plt\n",
        "\n",
        "from IPython.lib.display import YouTubeVideo"
      ]
    },
    {
      "cell_type": "code",
      "execution_count": null,
      "metadata": {
        "colab": {
          "base_uri": "https://localhost:8080/"
        },
        "id": "kFcUjqaW5sWv",
        "outputId": "ebe7c597-7e0a-4bc5-a207-80d272fa0f91"
      },
      "outputs": [
        {
          "name": "stdout",
          "output_type": "stream",
          "text": [
            "Mounted at /content/drive\n"
          ]
        }
      ],
      "source": [
        "# log into drive from colab\n",
        "from google.colab import drive\n",
        "\n",
        "drive.mount(\"/content/drive\")"
      ]
    },
    {
      "cell_type": "markdown",
      "metadata": {
        "id": "fIcwYOSMbAMV"
      },
      "source": [
        "\n",
        "# Extract video frame features using an EfficientNet"
      ]
    },
    {
      "cell_type": "code",
      "execution_count": null,
      "metadata": {
        "id": "8VxcldK2555u"
      },
      "outputs": [],
      "source": [
        "os.chdir('/content/drive/MyDrive/MyMaster/Final VD/Data')"
      ]
    },
    {
      "cell_type": "code",
      "execution_count": null,
      "metadata": {
        "colab": {
          "base_uri": "https://localhost:8080/",
          "height": 35
        },
        "id": "ShzSdkecc0kv",
        "outputId": "16d31d62-c7bf-4964-fe63-0fb000f8e59b"
      },
      "outputs": [
        {
          "data": {
            "application/vnd.google.colaboratory.intrinsic+json": {
              "type": "string"
            },
            "text/plain": [
              "'/content/drive/MyDrive/MyMaster/Final VD/Data/YouTubeClips'"
            ]
          },
          "execution_count": 4,
          "metadata": {},
          "output_type": "execute_result"
        }
      ],
      "source": [
        "training_videos_path = os.path.dirname(os.getcwd()) + '/Data/YouTubeClips'\n",
        "training_videos_path"
      ]
    },
    {
      "cell_type": "code",
      "execution_count": null,
      "metadata": {
        "id": "oOMv-t2Sc4I0"
      },
      "outputs": [],
      "source": [
        "file_Path, empty_list, filenames = next(os.walk(training_videos_path)) # 1970 videos"
      ]
    },
    {
      "cell_type": "code",
      "execution_count": null,
      "metadata": {
        "colab": {
          "base_uri": "https://localhost:8080/"
        },
        "id": "cCQDAV_rRoXz",
        "outputId": "f2b52832-24ca-48b6-e4d4-707f8badbbb1"
      },
      "outputs": [
        {
          "name": "stdout",
          "output_type": "stream",
          "text": [
            "/content/drive/MyDrive/MyMaster/Final VD/Data/YouTubeClips\n",
            "[]\n",
            "['jmoT2we_rqo_0_5.avi', 'Sj6GSmDpNDw_0_12.avi', 'q7pOFn8s4zc_263_273.avi']\n"
          ]
        }
      ],
      "source": [
        "print(file_Path)\n",
        "print(empty_list)\n",
        "print(filenames[:3])"
      ]
    },
    {
      "cell_type": "code",
      "execution_count": null,
      "metadata": {
        "id": "u5fMA9SXdFtL"
      },
      "outputs": [],
      "source": [
        "working_filenames = [v for v in filenames if not v.startswith(\".\")] # 1970 videos"
      ]
    },
    {
      "cell_type": "code",
      "execution_count": null,
      "metadata": {
        "id": "Nn2lBV-W2klN"
      },
      "outputs": [],
      "source": [
        "# make sure only videos are kept\n",
        "working_filenames = [v for v in working_filenames if v.endswith(\".avi\")] # 1970 videos"
      ]
    },
    {
      "cell_type": "code",
      "execution_count": null,
      "metadata": {
        "colab": {
          "base_uri": "https://localhost:8080/",
          "height": 35
        },
        "id": "sDKDQmXBdLrw",
        "outputId": "516f970c-62af-4687-8ec5-35947296b77c"
      },
      "outputs": [
        {
          "data": {
            "application/vnd.google.colaboratory.intrinsic+json": {
              "type": "string"
            },
            "text/plain": [
              "'jmoT2we_rqo_0_5.avi'"
            ]
          },
          "execution_count": 9,
          "metadata": {},
          "output_type": "execute_result"
        }
      ],
      "source": [
        "working_filenames[0]"
      ]
    },
    {
      "cell_type": "code",
      "execution_count": null,
      "metadata": {
        "colab": {
          "base_uri": "https://localhost:8080/"
        },
        "id": "-osreaRnrpgY",
        "outputId": "4694d0ad-8467-43f1-e017-b083dfd8a398"
      },
      "outputs": [
        {
          "data": {
            "text/plain": [
              "1150"
            ]
          },
          "execution_count": 10,
          "metadata": {},
          "output_type": "execute_result"
        }
      ],
      "source": [
        "len(working_filenames)"
      ]
    },
    {
      "cell_type": "code",
      "execution_count": null,
      "metadata": {
        "colab": {
          "base_uri": "https://localhost:8080/"
        },
        "id": "pC70izi_dR8q",
        "outputId": "505464ad-0396-4227-b332-2f6321aa2348"
      },
      "outputs": [
        {
          "name": "stdout",
          "output_type": "stream",
          "text": [
            "['jmoT2we_rqo_0_5', 'Sj6GSmDpNDw_0_12', 'q7pOFn8s4zc_263_273']\n"
          ]
        }
      ],
      "source": [
        "working_video_names = [x[:-4] for x in working_filenames]\n",
        "print(working_video_names[:3])"
      ]
    },
    {
      "cell_type": "code",
      "execution_count": null,
      "metadata": {
        "id": "IdYqKdzvdUHc"
      },
      "outputs": [],
      "source": [
        "def extract_frames_from_video(video_name):\n",
        "    path_input = os.path.dirname(os.getcwd()) + '/Data/YouTubeClips/'+ video_name + \".avi\"\n",
        "\n",
        "    cap = cv2.VideoCapture(path_input)\n",
        "    cap.set(cv2.CAP_PROP_POS_AVI_RATIO, 0)\n",
        "\n",
        "    frameCount = int(cap.get(cv2.CAP_PROP_FRAME_COUNT))\n",
        "\n",
        "    frameWidth = int(cap.get(cv2.CAP_PROP_FRAME_WIDTH))\n",
        "\n",
        "    frameHeight = int(cap.get(cv2.CAP_PROP_FRAME_HEIGHT))\n",
        "\n",
        "    videoFPS = int(cap.get(cv2.CAP_PROP_FPS))\n",
        "\n",
        "    buffer = np.empty((frameCount, frameHeight, frameWidth, 3), np.dtype(\"uint8\"))\n",
        "\n",
        "    fc = 0\n",
        "    while fc < frameCount:\n",
        "        ret, buffer[fc] = cap.read()\n",
        "        fc += 1\n",
        "\n",
        "    representative_frames = buffer[::videoFPS, :, :, :] # ::videoFPS means for start to end with step # videoFPS\n",
        "\n",
        "    cap.release()\n",
        "    del buffer\n",
        "    del cap\n",
        "\n",
        "    return representative_frames"
      ]
    },
    {
      "cell_type": "code",
      "execution_count": null,
      "metadata": {
        "id": "YFj8xTEXdksW"
      },
      "outputs": [],
      "source": [
        "frames = extract_frames_from_video(\"d\")"
      ]
    },
    {
      "cell_type": "code",
      "execution_count": null,
      "metadata": {
        "colab": {
          "base_uri": "https://localhost:8080/",
          "height": 314
        },
        "id": "8wsr48pndqCs",
        "outputId": "02335981-58c7-48ee-997a-e18bad91a2b3"
      },
      "outputs": [
        {
          "data": {
            "image/png": "[encoded data removed]",
            "text/plain": [
              "<Figure size 640x480 with 1 Axes>"
            ]
          },
          "metadata": {},
          "output_type": "display_data"
        }
      ],
      "source": [
        "plt.imshow(frames[0], interpolation=\"nearest\")\n",
        "plt.axis(\"off\")\n",
        "plt.show()"
      ]
    },
    {
      "cell_type": "code",
      "execution_count": null,
      "metadata": {
        "id": "0vNT_23xeGOw"
      },
      "outputs": [],
      "source": [
        "m = tf.keras.Sequential(\n",
        "    [\n",
        "        hub.KerasLayer(\n",
        "            \"https://tfhub.dev/tensorflow/efficientnet/b7/feature-vector/1\",\n",
        "            trainable=False,\n",
        "        ),\n",
        "    ]\n",
        ")\n",
        "# m.build([None, expect_img_size, expect_img_size, 3])  # Batch input shape.\n",
        "m.build([None, 600, 600, 3])  # Batch input shape."
      ]
    },
    {
      "cell_type": "code",
      "execution_count": null,
      "metadata": {
        "colab": {
          "base_uri": "https://localhost:8080/"
        },
        "id": "4blALCPFrphC",
        "outputId": "bf4f504c-e956-4d80-f820-b6994fa660cf"
      },
      "outputs": [
        {
          "name": "stdout",
          "output_type": "stream",
          "text": [
            "Model: \"sequential\"\n",
            "_________________________________________________________________\n",
            " Layer (type)                Output Shape              Param #   \n",
            "=================================================================\n",
            " keras_layer (KerasLayer)    (None, 2560)              64097680  \n",
            "                                                                 \n",
            "=================================================================\n",
            "Total params: 64,097,680\n",
            "Trainable params: 0\n",
            "Non-trainable params: 64,097,680\n",
            "_________________________________________________________________\n"
          ]
        }
      ],
      "source": [
        "m.summary()"
      ]
    },
    {
      "cell_type": "code",
      "execution_count": null,
      "metadata": {
        "id": "Jjn_r_nGfVj0"
      },
      "outputs": [],
      "source": [
        "def extract_features_from_video_frames(video_name):\n",
        "    representative_frames = extract_frames_from_video(video_name)\n",
        "    representative_frames = representative_frames / 255\n",
        "    resized_frames = tf.image.resize_with_crop_or_pad(representative_frames, 600, 600)\n",
        "    frames_features = m.predict(resized_frames)\n",
        "    return frames_features"
      ]
    },
    {
      "cell_type": "code",
      "execution_count": null,
      "metadata": {
        "colab": {
          "base_uri": "https://localhost:8080/"
        },
        "id": "89A4sakIfcfn",
        "outputId": "5bb4775f-31ab-42cd-805f-9be2e86fa801"
      },
      "outputs": [
        {
          "name": "stdout",
          "output_type": "stream",
          "text": [
            "1/1 [==============================] - 13s 13s/step\n"
          ]
        }
      ],
      "source": [
        "features = extract_features_from_video_frames(working_video_names[0])"
      ]
    },
    {
      "cell_type": "code",
      "execution_count": null,
      "metadata": {
        "colab": {
          "base_uri": "https://localhost:8080/"
        },
        "id": "8ZchH_Hnfeyk",
        "outputId": "e93fbec4-ff5c-4164-8227-c248b58325e5"
      },
      "outputs": [
        {
          "data": {
            "text/plain": [
              "(6, 2560)"
            ]
          },
          "execution_count": 19,
          "metadata": {},
          "output_type": "execute_result"
        }
      ],
      "source": [
        "features.shape"
      ]
    },
    {
      "cell_type": "code",
      "execution_count": null,
      "metadata": {
        "id": "vM4Skg9-fsAR"
      },
      "outputs": [],
      "source": [
        "features_path = os.path.dirname(os.getcwd()) + '/Data/video_frame_features/'\n",
        "np.save(features_path + working_video_names[0], features)"
      ]
    },
    {
      "cell_type": "code",
      "execution_count": null,
      "metadata": {
        "id": "GaMHxYTZf0BS"
      },
      "outputs": [],
      "source": [
        "def save_features_from_video_frames(video_name):\n",
        "    representative_frames = extract_frames_from_video(video_name)\n",
        "    representative_frames = representative_frames / 255\n",
        "    resized_frames = tf.image.resize_with_crop_or_pad(representative_frames, 600, 600)\n",
        "    frames_features = m.predict(resized_frames)\n",
        "\n",
        "    features_path = os.path.dirname(os.getcwd()) + '/Data/video_frame_features/'\n",
        "    np.save(features_path + video_name, frames_features)"
      ]
    },
    {
      "cell_type": "code",
      "execution_count": null,
      "metadata": {
        "id": "efiaV-8ogFhA"
      },
      "outputs": [],
      "source": [
        "from tqdm import tqdm"
      ]
    },
    {
      "cell_type": "code",
      "execution_count": null,
      "metadata": {
        "id": "HxRGQ96vrphX"
      },
      "outputs": [],
      "source": [
        "_, _, features_files = next(os.walk(features_path))"
      ]
    },
    {
      "cell_type": "code",
      "execution_count": null,
      "metadata": {
        "id": "wnrFgj6CrphZ"
      },
      "outputs": [],
      "source": [
        "features_files = [x[:-4] for x in features_files]"
      ]
    },
    {
      "cell_type": "code",
      "execution_count": null,
      "metadata": {
        "colab": {
          "base_uri": "https://localhost:8080/"
        },
        "id": "VysdpvKNvL8-",
        "outputId": "1803e9ee-798f-410a-f154-03336c99a936"
      },
      "outputs": [
        {
          "name": "stdout",
          "output_type": "stream",
          "text": [
            "['-_hbPLsZvvo_19_26', 'JXSkYkiKO0I_42_46', 'TxzxPyfsSxY_0_10', 'G6w6kO8UPyg_31_41', 'tIMDKdMnNYM_266_273', 'GcfWD62sbcs_13_33', 'zMg9dChF97A_12_38', 'o2X6UCaNqKA_27_36', 'YmXCfQm0_CA_277_284', '4QdX5Q3qQsQ_38_44', 'ao-9B8IV9_E_175_187', '-t-ZWaJeH-o_0_15', 'NbOlG7THecM_25_34', 'iCiGjZEV7VI_65_75', '0lh_UWF9ZP4_82_87', 'TwQzFqBqgeA_0_10', '_yUiusXxfWI_150_165', 'FH8vgAp4VDU_10_14', '_WRC7HXBJpU_395_401', 'K6xy6C-Hsa0_2_28', 'q8t7iSGAKik_11_31', 'XNV7hKVu-Xg_40_47', '0NPtAv3_uVI_46_54', '6t0BpjwYKco_179_183', '-uT_1VDvXok_8_15', 'ywHBKayhyvQ_19_28', 'dP15zlyra3c_0_10', 'ACOmKiJDkA4_121_128', '4lXdVS697DQ_10_25', '2YhDTpzxd3c_149_154', '_6OTzzK7t9Y_73_78', 'MJNStEgDKXU_3_10', 'vMoOpQQy6sI_22_55', 'onW5hJXnI5s_126_133', 'xgIIcPSh4EU_0_6', 'V--abChiVVc_30_40', 'bQJQGoJF7_k_162_169', 'WTf5EgVY5uU_15_19', 'HJHPB_Y8GZE_22_28', 'ptHkvYrH9fY_2_10', 'GY5Dl00LrEI_2_13', 'PBHZtoygOYg_450_465', 'Ted3imMggC0_48_58', 'PAm82v0AMFc_5_10', 'GyIs9B3A1Z0_0_7', 'qeKX-N1nKiM_106_115', 'L9wD3kw-8FE_65_73', 'sWqi41wyXcQ_68_79', 'bkazguPsusc_74_85', 'zpgW7m7_LZw_2_15', 'HPFLN5azwtA_56_63', '00jrXRMlZOY_0_10', 'c2a0GcoJAjw_107_129', 'Ar70p1_LcfM_2_20', '5YJaS2Eswg0_22_26', 'DvYN53KBDr0_51_62', 'xpOYXbMDDBY_1_20', 'Ne87egvJnWo_0_3', 'pNelR-nHz7g_68_90', '0I4VKj4d0WI_24_40', 'F1BwUJ4--Qw_21_38', 'D1tTBncIsm8_681_688', 'xxHx6s_DbUo_216_222', '5HAf_INrFy0_3_25', 'kWLNZzuo3do_48_53', '0GXq1An3yHI_22_35', '-9CUm-2cui8_39_44', '0SMOK2ql7Pg_5_12', 'AdcgmBtE99c_108_114', 'R24RktgUi-s_5_15', 'htWPOGTagec_2_18', 'fqly5kyO2MI_10_20', 'hbE29pZh76I_3_8', 'Gn4Iv5ARIXc_83_93', '0hyZ__3YhZc_575_580', 'VyBXcQ1v_cw_7_15', 'y8SDRc4IOjs_94_99', '4zPSShqsq-o_3_16', 'kKGehSw5ht8_39_45', 'rw9h_574HxE_161_166', 'HO_ovIrLWfQ_1_11', 'jfrrO5K_vKM_55_65', 'r2oI9Y-3wAo_21_28', '5AEldiUP408_65_71', 'onxE6PpEXes_8_25', 'iyAoiWeD53k_120_127', 'TjLCJKoot4U_43_65', 'R24RktgUi-s_24_28', 'OaBmAg6gz30_4_18', 'YwmUgVrUJ4I_0_15', '6t0BpjwYKco_240_247', 'BR4yQFZK9YM_101_110', '7ZE2OzguWHo_28_38', 'W1052h2rzoA_91_98', '-zOrV-5vh1A_69_76', 'hkkmKk9LcQk_36_43', 'm1NR0uNNs5Y_88_94', '-wa0umYJVGg_139_157', 'WeOU0Iba1Xg_1_30', 'qvSxiVV7jhw_0_15', 'nTUONeDqhdk_10_15', 'fkONJEgTNJY_25_35', 'EA-J-Y6QjUo_40_61', 'aM-RcQj0a7I_37_55', 'w28TljSqtW8_64_75', 'YJ2aGe7CLBo_25_35', '4PayIIIOeIs_230_238', 'ACOmKiJDkA4_175_182', '0lh_UWF9ZP4_148_155', 'yYA7YXIKbg4_9_14', 'd1zdJO3CqVw_1_35', 'IY1Fn796MoY_7_10', 'wzfkC2TjdeQ_0_31', 'zWVQImPY2Cc_27_44', 'u9prcUCHlqM_235_241', 'fr9H1WLcF1A_141_148', 'eyMYc-37Sk4_0_10', 'd4AGWnHJcaY_6_19', '_ZwwKOzpt2I_69_76', 'nc8hwLaOyZU_1_19', '2HpZvL-_fiY_40_44', 'gjVBEJGHrXk_26_38', 'W8l_ezoU8Lc_76_86', 'oSnYUfCGiCA_7_17', '8D_oQnBPfNo_43_50', '3zgEl-OLFKE_12_15', 'uO7Eysrs8_k_80_90', 'bmvD4HlPFxg_20_27', 'YXixZrSxefk_17_48', 'SFFfhAUEoj0_10_16', 'zbAk0gX7kas_16_24', 'z8dcUzdi2bw_3_16', 'OBLIjdMIIt8_54_61', 'XNzXXiE6qR4_0_10', 'xxHx6s_DbUo_49_56', 'dfOuTx66bJU_11_14', 'ecm9gf2Pgkc_1_24', 'rwHT2SuNOi8_240_255', 'gbbRwBZuhzI_26_40', 'uiLr9bdOL0M_23_30', 'OO-5-eVEKPA_25_31', '60x_yxy7Sfw_1_7', 'YRSOc193Pxc_68_73', '2YhDTpzxd3c_240_245', 'NoCgvH4xZHo_56_63', 'j1Z890_Q3so_131_138', 'e-sf-hyrkTs_20_35', '2KrdBUFeFtY_22_27', '9LHg5RUGukI_63_68', '992zi9V3oiQ_15_17', 'p7IAuvd87hQ_12_19', 'JIKaIriiK8w_0_15', 'yFPHhRat6bc_160_210', 'Wnz3IevSNg0_1_8', 'WFNXwor69-U_33_40', 'k06Ge9ANKM8_5_16', 'tBj4Ny19vfQ_54_59', '6gQu8PWhFoQ_30_35', 'fKqBnl8D1Qo_5_44', 'MW21lp833Vo_143_149', 'kWLNZzuo3do_147_153', '7M-jsjLB20Y_11_30', 'AoNnzlGhI04_112_128', 'dMH0bHeiRNg_3_14', 'YXixZrSxefk_49_59', 'SzEbtbNSg04_214_224', 'hJFBXHtxKIc_298_303', 'zTn-nNj5Bng_61_77', 'YZ0-6hdQ0mU_0_3', 'tn-Hoz4KbkE_89_93', 'hFERWnoc-nU_0_12', 'kWLNZzuo3do_152_164', '05gNigkqfNU_78_84', '11xs9mFKObs_0_8', 'QhRqJp-CgEs_7_14', '08pVpBq706k_175_212', 'MdOAr_4FJvc_5_15', 'yNy9jTeolUk_8_12', 'pRpeEdMmmQ0_1_18', 'qLwgb3F0aPU_298_305', 'W_iR4YVCxUY_8_15', 'kBjUDCyDCuI_20_26', 'eb-Zp4pJLKk_2_19', 'B4foOe9kUgY_0_8', 'kSzS_lFtJDk_55_70', 'TdYN7cePiRI_6_13', '30PpKtVT8Z4_35_50', 's-QQWRdF-5Y_19_28', 'lm0z7eLsbbw_9_23', 'pdrBPJYfTC8_33_39', 'ItFqogTmAvQ_281_286', 'nrZyPuRd5pU_85_92', 'dJCtOz32dnw_40_60', '5CS4nLI2ZX8_50_59', 'n_Z0-giaspE_62_78', '8e0yXMa708Y_24_33', 'HxRK-WqZ5Gk_30_50', 'HV12kTtdTT4_5_14', 'c_-eFL7Sfw4_19_35', 'QsvBYKaCXEc_5_15', 'lrZxpneS6Gk_0_12', 'z0Si1XxMibg_0_30', 'qeKX-N1nKiM_37_43', 'B7mP4zoDMwM_0_17', 'ao-9B8IV9_E_77_81', 'EKL6elkbFy0_16_30', 'Z19zFlPah-o_6_11', 'xTd_IdIcB4s_2_10', 'D1tTBncIsm8_198_205', 'fVWUaH2mCt4_1_7', 'ZvJvNcukZ4w_0_10', 'gnEE6oWoz7U_124_132', 'EPXsiQw9vvo_1_12', 'xxHx6s_DbUo_57_61', 'ruoHOXo2PRQ_2_20', 't4aPGtx7e6k_0_10', 'UxhKb-zZoWE_0_15', 'dJ3ba9zwx6c_5_15', 'cmQ3SiIaWy4_4_20', '30GeJHYoerk_63_75', 'kk3TIio1-Uw_5_14', 'rw9h_574HxE_70_74', '6t0BpjwYKco_80_84', 'psXeA8sSYdI_25_30', 'NVGGgncVq-4_111_117', 'pzq5fPfsPZg_29_33', '1_6V30igzIk_5_15', 'OE6H_M52Sng_89_97', 'zkTn5Ef1Oig_71_75', 'tZmDWltBziM_42_47', '25NmudB2fqg_0_7', 'HypgcCT1r68_38_46', 'uGDuIyfJXXg_23_33', '3mbBbFH9fAg_21_29', 'fjDvKHkmxs0_119_126', '0lh_UWF9ZP4_94_103', 'sBjr8UJOpsQ_149_169', 'qqYysi3qotc_148_195', '5U3xz9Ovmhk_214_222', '0xx13BuvVmo_25_36', 'krAk8WPZRL4_207_212', 'ACOmKiJDkA4_20_26', 'jCplbayVbtw_28_38', 'MSrJTeKNzdI_32_36', '5-8z5U-o4O4_0_3', 'YndZ9YulpTo_61_76', 's0hwEUC5emA_127_132', 'd7eGypGOlOc_13_22', 'PD6eQY7yCfw_32_37', 'W20Btaww6zc_134_139', 'ITNh8tWZPOA_5_25', 'MrQd1zUVRUM_103_110', '1dfR0A_BXjw_524_532', 's-XjRDsYuzU_0_12', 'PeUHy0A1GF0_68_73', 'BApIQn69EVE_10_16', 'A6XrTsLsUbA_4_15', 'c_XV7nPoRg8_2_12', 'T6lPRKRpu9w_32_39', 'Xp6rxW4hFFo_32_40', '6BrHPMdyVtU_1_10', '_O9kWD8nuRU_50_56', 'VahnQw2gTQY_315_320', 'kWLNZzuo3do_154_165', 'JIoiUNOXGaI_98_104', '0hyZ__3YhZc_364_370', 'RieF9wrFd8s_1_8', 'd7Gs0uGFLh0_5_13', 'UqBafx3iRKw_22_29', 'Rf0TUCA3XNs_3_16', 'sXyjCgR0rAc_0_11', 'W8l_ezoU8Lc_156_162', 'rw9h_574HxE_13_18', 'AJJ-iQkbRNE_97_109', '5OvgDatToBU_0_8', '2YhDTpzxd3c_45_49', 'LEz0puaKNTk_38_48', 'fHfpMUDrQCs_17_31', 'itxzpFW1z7E_22_36', 'klFyrnrUSck_13_19', 'O2qiPS2NCeY_2_18', 'SKhmFSV-XB0_12_18', '1TjqADyYyxI_36_45', 'qIXs7fUoLIg_1_11', 'x_8RiVI6rH8_41_54', 'LLkehH86ABY_30_36', '71soiLO6I9U_15_24', 'ePujnD4qJO0_62_77', 'Je3V7U5Ctj4_760_765', '0hyZ__3YhZc_279_283', '2xpIT0L4GqE_1_10', '8PQiaurIiDM_173_180', 'aCKNdip53W4_0_25', 'Xxcv5jvRmcg_39_46', 's8utHZYTNTs_35_42', '-_hbPLsZvvo_5_8', '8yS2wqwActs_2_14', 'Ya-MkA187c8_36_45', 'MHIVmf42Ao4_31_36', 'Eamd2wMKixs_48_72', 'BtQEY2SL4g4_126_132', 'Je3V7U5Ctj4_768_773', 'jI58q6rcNLc_8_18', 'GlW6n43pUQA_0_12', 'hPyU5KjpWVc_0_35', 'dtwXtwJByYk_5_14', '0bSz70pYAP0_5_15', '8yuPGwxwdPs_1_10', 'GMuijLIJH-U_1_10', 'kI6MWZrl8v8_149_161', 'sTMlQSbAGfE_0_12', 'lR8RrUBhCQg_5_15', 'ZK4W-2ifl6I_1_28', 'Hd-NeIhbYGc_28_31', 'zSPBC8EO6dY_97_110', 'aboAli', 'aboAli2', 'Rq_VfjGH7kg_104_110', 'Sj6GSmDpNDw_0_12', 'q7pOFn8s4zc_263_273', 'UhI-p6AysWY_25_30', 'cwkjJrGpoaU_30_41', 'NMlKMfiHSho_1_15', 'oG6LLGi_n48_51_55', 'L6dEUQ6WiHY_171_186', 'Xvy21KrDv8I_0_10', 'p6cg2jWI34M_34_42', 'PeUHy0A1GF0_78_85', '9fkS7wqrzAY_13_25', 'Mutb8BHFvzk_15_20', 'BefkDBj5gSw_104_109', 'nTasT5h0LEg_40_43', 'C12BRGGcd5E_101_117', 'zS50h-a8RTg_3_9', 'Cx1We6GX4IM_0_8', '5fDBl1wT2Lk_34_39', 'PCXHuseKwDc_68_76', 'qvg9eM4Hmzk_4_10', 'b24_bb57PPk_631_637', '8HB7ywgJuTg_131_142', '8MVo7fje_oE_108_113', 'qeKX-N1nKiM_0_5', 'WV9K6MbLjHA_106_116', 'lFdg5CWMTt0_24_28', 'gtixLEvO2Us_0_6', 'qew09qQgMAg_22_27', 'MW21lp833Vo_8_16', 'swJ0zhVJ8DU_15_21', 'DcDYRpa34W8_11_25', 'zulPFoY64wE_26_33', 'FvfjDQj5sOY_1_10', 'G-M78KIy19E_315_330', 'n_Z0-giaspE_437_447', '5fq9iIxxA1s_12_27', 'BLXzfdNmydQ_151_156', '0lh_UWF9ZP4_27_31', 'R0e8ojL0vcc_8_14', 'm1NR0uNNs5Y_224_230', 'VahnQw2gTQY_322_327', '9VG7Elw9TDA_85_91', 'x8Ul09tk6zk_0_8', '7EOqi_6rnkg_36_44', '1dYpcVv6n3Y_0_18', '0lh_UWF9ZP4_183_190', 'JledeVyklPw_1_6', 'ibSwITK4jjQ_14_24', 's-dSFyz_5Ww_13_23', 'GWQTAe64m-0_160_166', 'X0UJaprpxrk_18_26', 'p3J3TAdKAYQ_0_10', '-wa0umYJVGg_117_123', 'CGllPWAwmUo_1_15', 'pfQPRXcihkI_127_138', 'Ly5D0z9gKtc_15_20', 'QMJY29QMewQ_42_52', 'TPD5wO_LEPU_2_6', 'xlPyHMkpaQY_1_7', 'K1ZM0LSLVw8_488_494', '_O9kWD8nuRU_70_76', 'mZVPkPqwzR4_38_45', 'PAN5IVvMlVc_17_23', 'IEQyCcageGg_99_126', 'N3A7944_UJw_63_70', 'WTf5EgVY5uU_130_135', 'MICawzo1MqI_3_13', 'Qp-k0H93iJE_35_39', 'shPymuahrsc_5_12', 'AKVBK-0veE8_5_12', 'bK-i_FAcpoY_86_92', 'JM4913Fe-ic_4_15', 'xEDCfcMZlZY_91_100', 'VahnQw2gTQY_203_210', 'Wv3u2q3oGeU_35_45', 'Okg8QYhdtvU_73_92', 'C9vRgZDxTv4_26_33', 'f_GnkweYzzI_35_41', '2YhDTpzxd3c_174_180', 'nMBSDpB3WB8_5_14', 'xEDCfcMZlZY_37_41', '0lh_UWF9ZP4_62_69', '6gQu8PWhFoQ_37_41', 'bAYIIlX-WWw_5_15', 'nTasT5h0LEg_12_14', '6t0BpjwYKco_200_205', 'ggWzbEFC-RE_1_11', '7s0AXJtLL0Y_57_61', 'nau1vCzyFQ4_37_54', '8MVo7fje_oE_166_171', '5L5MoemWC6g_10_13', 'jD4o_Lmy6bU_117_137', 'yAD_TS5L2d4_4_11', 'inLBPVG8oEU_18_24', 'ViWQUOGIaSU_9_16', '8MVo7fje_oE_130_136', 'gqSOvUH_njE_151_155', 'o4pL7FObqds_72_78', 'PECk9A-07Pw_1_9', 'jMO3jGQeqyk_3_6', 'mYzajpeAWuA_100_112', 'K-KVz3eqbnA_1_10', 'MrMG15y3rWU_5_13', 't4vP-cXXWkY_14_20', 'eVSQiPbepXg_44_49', 'NjCqtzZ3OtU_62_67', 'C_DDjCRxTxQ_1_4', 'e-j59PqJjSM_405_416', 'sv5YlZspb30_10_20', 'Ylb4pnW-jP4_102_113', 'uAaWVeaYLdQ_1_12', 'MWzeInQaUk4_12_20', 'RZL9irxnhZ0_34_40', 'iLr7ZHAq1ro_7_11', 'Dgf0VHMEtNs_57_66', 'kWLNZzuo3do_86_93', 'pfQPRXcihkI_135_144', 'u4T76jsPin0_0_11', 'WTf5EgVY5uU_124_128', 'QsC8__3lwO0_50_60', 'n_Z0-giaspE_379_387', 'ymC2bNi6-Is_9_19', '4xVGpDmA4lE_23_33', 'PslVHtXc7Tg_8_14', 'AjZ-R3LFMzo_24_38', 'i3fd4nE8OCI_174_181', 'IhwPQL9dFYc_171_175', 'ID2xXlUENG0_19_24', 'lv8d_qLLqsk_1_20', 'xb-Nacm-pKc_78_82', '6njscWrdnM0_8_18', '7uF-2adCsI0_60_67', '6vC6AT27RUc_29_46', 'CwPfvoqmV1Q_58_61', 'sm0OYD0NSbQ_51_59', 'R1UrFBF_0iU_35_41', '4D1o4FC8YbA_29_39', '4ikH9ZRcF2Q_89_105', '6owu8Mow0_g_850_855', 'kWLNZzuo3do_145_151', 'WTx-K045yQM_85_98', '_O9kWD8nuRU_16_23', 'zkTn5Ef1Oig_70_75', 'ZbtpcGi2DWY_161_170', 'PNMsPz1701c_3_20', 'mOZkcBcWR8o_6_12', 'PeUHy0A1GF0_105_112', 'kRNHJSc4AXE_220_228', '2I20ZTFHheg_96_104', 'FAD8CbQuvco_35_45', 'PugziVUikEg_117_140', 'unhiT2D6WvE_0_20', 'wgrrQwLdME8_66_74', 'IhwPQL9dFYc_130_136', 'fw8qvK67jYY_50_97', '0lh_UWF9ZP4_21_26', 'm1NR0uNNs5Y_73_78', 'yg4aNiO1JnI_111_114', 'tJHUH9tpqPg_113_118', 'rXZy-PHtnxg_8_42', 'tYQ7O6V0Fvk_20_55', 'kJY5BRCNAs4_3_6', 't3VPeyYL-fI_35_39', 'sJSmRik2c-c_1_7', 'b4FM9OLBGyM_37_49', '1dfR0A_BXjw_441_448', '9uDPqigcnzw_36_46', 'Pgm-mOQu2MM_48_62', 'aGUx0QOKWXw_7_12', 'fJr2evLANsE_0_10', 'r0rmrbTb7fU_98_109', 'fcvW1vr8hAs_104_108', 'xtbsD3PUua4_84_94', 'GnwKcpfr_ng_10_20', 'rV5VmhY3-Sw_65_76', 'WyIqGyj21Dk_0_10', 'nZSFn51l3hc_660_666', 'JMUAylpXzG0_45_62', 'p9g06ktIkJg_4_11', '-Ms9tsWmhyU_80_95', 'dZBIdRGKRhM_13_32', 'glrijRGnmc0_211_215', '6Q3ltyPJJMQ_67_72', 'XEOH3t5AYY0_22_29', '7d1d2WlEnKs_0_12', 'ogcqFaNbah4_475_487', 'UdcObAQ5OOM_15_30', 'oDcd2JbOyzg_85_98', '9Q0JfdP36kI_56_64', '4-1gpwkD7Hc_7_15', 'VLBsAPZ2DDE_58_64', '02Z-kuB3IaM_2_13', 'mFCf8lLXrUc_36_57', 'HzYtvOYOEoU_21_32', '-rkErLY0rRc_63_67', 'DGQL5lx-mwE_2_12', '0hyZ__3YhZc_380_384', 'k9Brw_0gncU_14_33', '9LHg5RUGukI_58_63', '9zXqkHvs0po_59_65', 'OfgSCMxttCc_86_92', 'cR2yi-JnGcQ_8_16', 'BE_uxYK9uz0_150_168', 'kWLNZzuo3do_222_227', 'FeTaKOPVaJg_15_25', 'BgoOihBb78w_38_40', 'wFX6bXLbHW4_83_90', '8sARjdhSvpo_167_176', 'kWLNZzuo3do_25_32', '0lh_UWF9ZP4_178_182', 'kWLNZzuo3do_24_31', '-wa0umYJVGg_100_115', 'DhwrBs96Kgk_120_124', 'UJKythlXAIY_17_21', 'UbmZAe5u5FI_26_33', 'Qwn0Ni9G5ow_64_69', 'ul9Xvjt83eI_111_120', 'eZLxohGP4IE_147_158', 's80J2dAUUyI_33_43', 'jW77z3-SrO4_56_63', 'SaYwh6chmiw_15_40', 'CquJjlNuotg_147_155', 'BE_uxYK9uz0_49_56', 'pptYu3YQnxY_160_170', 'YersIyzsOpc_15_30', 'lKpGc3SCSVw_12_20', 'VuCFgiWfVF4_0_6', 'bmxIurBrW5s_51_70', 'wX-Bl25Htag_104_115', '-4wsuPCjDBc_5_15', 'hNPZmTlY_3Q_0_8', 'UoPU8F9mus8_258_262', 'yyxtyCaEVqk_250_264', 'umjc1CkO4JA_290_305', 'o_mWZWcm2r4_47_54', 'WPG-BIWOrG4_635_640', 'i2GgBwlwV0c_24_31', '1RchFBCT9JU_43_53', 'btuxO-C2IzE_64_72', 'e-j59PqJjSM_50_98', 'H9Oplnr8WcE_24_34', 'xxHx6s_DbUo_98_101', 'QTAqjSbMkXU_65_75', 'kWLNZzuo3do_76_80', 'bqMmyY1ImkI_0_14', 'cM55xNJ_pfU_1_20', 'N2Cm0SLr0ZE_18_29', 'RjpbFlOHFps_8_25', 'TZ860P4iTaM_11_20', 'ge7OOILJA6U_20_25', '5XxshEdcfAM_96_107', 'gIvetX_oXeI_85_90', 'vub04F8CWng_32_41', 'kZfBt5me3Pg_2_7', 'lb8J2zCQTlo_3_8', 'Afmc6FeN-hM_20_24', 'qeKX-N1nKiM_123_130', '2LgrGHWSy6k_122_135', 'hM3jzlyNIpc_0_10', '0lh_UWF9ZP4_199_207', 'ao-9B8IV9_E_37_44', '05Gtb7_9tLU_0_9', 'dc4UltkRJsw_53_59', 'ZdNP0dXCx2I_78_90', '0lh_UWF9ZP4_138_145', 'aA05I5QaZnM_66_75', '1kYWws89W3Y_0_5', '8PQiaurIiDM_247_255', '3OPQqH3YlHA_50_54', 'LjimLwAhAOQ_5_15', '4_WZN7uW0NY_140_145', 'EXyp0Q7L1zE_30_38', '1dfR0A_BXjw_590_600', 'wgrrQwLdME8_0_10', 'uB9zRlV47qA_17_23', 'E4k0Aylzdyo_97_104', 'ficwZQYmRLE_5_20', 'IhzXQ-gc9IQ_125_129', '2Nn2CAeaI5k_72_77', '9d57lHEsLU8_1_14', 'UbmZAe5u5FI_88_98', 'Z3rj9LbCOaM_0_12', 'x_7BrCQdVUs_172_177', '9wxB1UQi0MM_18_38', 'yId1rg5-ac0_40_50', 'z2kUc8wp9l8_40_46', 'q-JHcsqJXWY_0_8', 'k8l4ETsylVY_9_18', 'dhxE9CNeVeY_0_12', 'D1X6qXkLjYE_41_49', 'l57mQZvDaL4_10_30', '-mAoVOhKy0c_4_9', 'yvfhk1kwKls_103_113', '-YI0cxuNcq8_262_272', '-pUwIypksfE_13_23', 'tPkZK-PzeQE_10_28', 'a-cek0mvXxE_15_25', '5E66Gk3V1Bc_23_30', 'lw7pTwpx0K0_38_48', 'Z8rTzW9Gb6Y_116_123', 'PTxHJMM6hHE_0_15', 'HkpUWzNNVt4_20_30', '3doK4FQM5-k_46_57', 'L6dEUQ6WiHY_136_142', '4VLrxtf7Z_8_0_7', 'O9yLRzpPp44_36_55', 'kquB3rIgfGk_197_202', 'kIZanu909lw_67_80', '05gNigkqfNU_11_23', '5U3xz9Ovmhk_9_15', 'jsEUFYhiqxU_121_128', 'UbmZAe5u5FI_60_70', 'bmOy6p87TWI_26_35', 'KpmVL4ANieA_0_9', 'kWLNZzuo3do_56_62', 'v4_AzQSnmY4_40_55', '-_hbPLsZvvo_211_219', 'b97TK8XVLHE_40_50', 'dtn0PuxgfkM_0_5', '8mSUD7JGNO0_198_204', '_WRC7HXBJpU_360_370', 'ok4cM6WTA5E_120_133', 'nCtZFOYAlvQ_44_49', 'eoP-SCgYM2w_49_60', 'gXVaC3gBWbc_22_30', '21uB8g-jDZI_70_79', '5QJf-l4lPJw_133_138', '_O9kWD8nuRU_37_43', 'DlOhXqKcLXk_7_14', 'ViM0JjUoqRw_10_20', 'vZa13vJugGU_0_30', 'zSPBC8EO6dY_122_126', 'g36ho6UrBz0_5_20', 'rw9h_574HxE_229_236', '_WRC7HXBJpU_414_425', '80D0ylOqPJ8_0_5', 'zhLcONtNkew_16_21', 'vfktGc_qx-w_2_18', 'c51L6ZxZGjQ_137_154', 'O06WXS_XZN0_0_6', '16iNk1hLJt4_37_40', 'S-Civm_fbK8_20_26', 'hcCLIzzB1jQ_1_7', '47D9-U8hn5I_11_16', '-vKO3uSG6Do_3_14', '5K7Ru5s6YIw_8_11', '-_hbPLsZvvo_18_25', '-wa0umYJVGg_168_176', 'swKrHEeOj9c_4_8', 'wjH72cZ0GLM_1_10', 'klteYv1Uv9A_27_33', 'hJFBXHtxKIc_204_209', 'gMqKUPeTAkg_17_30', 'o_mWZWcm2r4_10_15', 'ywMLb2VfHbI_13_20', 'BVilbVCo9sU_1_11', 'vE1gvaM3iAs_39_46', '6owu8Mow0_g_302_307', 'IhwPQL9dFYc_61_75', '-rvjK0lE3z4_33_43', '32_A0-er4Ws_16_20', 'JK1R9k1WDpc_6_15', 'Ea0thGZKPXA_25_35', 'PHDmVhShE80_20_29', 'u4kMN1jamdM_10_20', 'ZdlG8fjGJlo_78_87', 'ao-9B8IV9_E_87_95', 'oFUsn1owAbs_158_168', 'lsanQj2yacs_102_108', '8MVo7fje_oE_113_118', 'BAf3LXFUaGs_28_38', 'kquB3rIgfGk_525_532', 'OpR1Er5o6IY_209_217', '0lh_UWF9ZP4_50_60', 'Lt1JijkvSKk_0_10', 'UXs3eq68ZjE_255_260', 'OUII8_aOfNM_60_69', 'qRoxNXm7INc_58_66', '_O9kWD8nuRU_25_35', 'lfGlDg47How_361_367', '39Ce7I6nXIw_96_104', '7NNg0_n-bS8_21_30', 'j2sOMdilDWU_87_97', 'XZ0Ch_ClBfo_120_127', 'zzit5b_-ukg_5_20', 'n6U-TGahwvs_100_110', 'yC4eEuURH8c_19_28', 'XzCcRzEa83U_1_8', 'VF1K_6ZSOAY_23_28', 'msCidKHOh74_410_418', 'dEn5E-TNezw_13_23', 'WTf5EgVY5uU_98_104', 'HBCJYhUjVf0_0_9', 'zFIn8DeV5PM_20_33', 'E6sqA9QtV5I_195_201', 'Q-soOsOLIGQ_0_22', '3SKyc0aKx70_46_52', '9W6aQNcU3PA_92_103', '30GeJHYoerk_80_85', 'q9ew_nITQWY_54_62', 'AjZ-R3LFMzo_18_23', 'm1NR0uNNs5Y_160_166', 'DIebwNHGjm8_133_148', 'WPG-BIWOrG4_672_677', 'MF88IYF2MHY_25_59', 'WPG-BIWOrG4_683_689', '6t0BpjwYKco_118_127', '9Bxknsvy3jQ_53_58', 'v-9Gx0gJmfo_91_99', '5W02895vT8c_312_322', 'Uc63MFVwfrs_360_372', 'PuQVs2Ch1LY_5_15', 'j2Dhf-xFUxU_13_20', 'J3_hkgu6MGc_43_52', 'bQJQGoJF7_k_109_115', '_txL575S_OA_13_23', 'aRo8x3xXeEA_3_8', 'xxHx6s_DbUo_41_44', 'nV3Wv8iHp4U_0_38', 'a1Y73sPHKxw_0_5', 'NjCqtzZ3OtU_303_307', 'H7vezmDeZaw_2_7', '6t0BpjwYKco_46_53', 'z9qbQX4J_2g_0_14', '-_hbPLsZvvo_288_305', 'bXsKw3TOQXs_30_55', 'FWzsXeXCwuc_106_110', 'nBFhvrAOFqY_89_103', 'AysIdzGF-7M_6_14', 'QzcTlEpAigQ_0_14', 'jlahRlo4jlU_30_36', 'nwk4m329bLw_2_10', '8jP8CC2rKj4_80_88', 'pDvzOLRLjPc_0_8', 'kquB3rIgfGk_640_645', 'LQ-jv8g1YVI_1_6', 'nS6oQxX_Qi8_2_12', 'w9mqbwOIkVg_6_12', '_o1UXSxTjfo_68_80', 'lAznAeFFldg_6_10', 'C1MNCR1o9lU_0_7', 'BtQtRGI0F2Q_15_20', 'elQqQfux7Po_12_22', 'jmoT2we_rqo_0_5', 'yyxtyCaEVqk_329_360', 'cs33MNhpRNw_16_21', 'BVjvRpmHg0w_157_165', 'hW8TKz2Aea4_5_12', 'BtQEY2SL4g4_11_16', 'QT8iCDc7NGU_18_23', 'qBFSt85-xqk_15_20', 'PmrTDZy3f2M_35_39', 'aeA-HN7BMdo_34_41', 'ysTmUTQ5wZE_17_45', '2F9jX7u5nOg_83_97', 'X_NLV2KCnIE_60_70', '4ge5_V-xhP0_138_142', 's1ZABV7AQdA_38_48', 'iwpnUHFhjWc_9_14', 'bJJndejsUWc_88_98', '6pcqRuFEMLs_46_52', 'fr9H1WLcF1A_326_336', 'DBvSfds3FH4_76_80', 'ItFqogTmAvQ_389_395', '3ytUOoa1SBE_12_23', 'V6Fxclwdfxc_56_66', 'ZsrPKtx0qyg_7_15', 'MTkGPfMRXtc_5_21', 'hWhKdXcqYeU_3_12', 'PCXHuseKwDc_17_20', '6t0BpjwYKco_53_59', 'v7NpKUVqjpI_23_40', 'X7sQq-Iu1gQ_12_22', 'hNECyt6Bo0A_5_10', '_7nP9z6T9m8_11_17', '77iDIp40m9E_3_9', 'giLxPCgLLqg_9_19', '_QJbjKkfdcs_52_57', 'qhknaG9ifbs_122_127', 'ngHDYzhDBk4_5_14', 'UnWgz-mVMXU_2_6', 'ZlX_Gy4HP2E_38_55', 'Kxa0mnDj0bs_113_124', 'dfOuTx66bJU_34_39', 'UbmZAe5u5FI_16_23', 'nBJV56WUDng_38_47', 'ZN2_czSBSD0_240_250', 'GPyFZMJ5Dow_56_70', 'r4qv_BNlQNk_93_98', 'Pr5LQq42l4M_12_17', 'MJoxGpEswOI_9_16', 'bQJQGoJF7_k_120_126', 'e996zZ0uV_A_152_163', 'ghynaoVNwZc_1_20', 'HqbVbPvlDoM_0_11', 'R3a9r8qFlhQ_0_12', 'AEKPjVHSVZc_0_12', 'idXJu0BQRvo_2_6', 'EdrZtaBUXIo_25_29', 'Xh6rdpJNaf0_0_15', '4QdX5Q3qQsQ_6_14', '_SNE2MYAotU_41_49', 'KPPCwmU5OHQ_480_486', 'c75SIlAjfjg_6_14', 'SzEbtbNSg04_111_117', 'dJEoDaA6VXc_1_19', 'ZxqkAGNyo8A_12_22', 'Je3V7U5Ctj4_582_587', 'p69d3UBdpR8_98_109', 'uqVCk2oDpSE_194_200', 'crfrKqFp0Zg_15_25', '6sKdTbRkahM_6_12', '4s_0-zIWEog_1_15', '0hyZ__3YhZc_485_490', 'rwHT2SuNOi8_195_201', '1rECrfrdNTo_200_207', 'YXixZrSxefk_6_15', 'J4otiwOjQy8_98_112', 'RSx5G0_xH48_12_17', 'q3I3R_gqy8M_73_79', 'CHVhwcOg6y8_1_12', 'wNv74rvkAw8_30_40', '73vUksucPz8_12_20', 'yfMTsYcLt10_0_7', '_6OTzzK7t9Y_158_170', 'ifS2nXfCyYo_4_34', 'CBD9h0jUq3w_1_7', 'ACOmKiJDkA4_161_170', 'jjl2ZMdFCsw_130_142', '8PQiaurIiDM_94_99', '5XxshEdcfAM_85_100', '_WRC7HXBJpU_386_391', 'R2DvpPTfl-E_20_25', '6r5DmFa5ZR8_51_58', 'rw9h_574HxE_59_66', 'HM-ZDoRWiH4_0_5', 'm7x8uIdg2XU_67_73', 'j2Dhf-xFUxU_20_29', 'nHZsE7T7hwI_13_23', 'x68Djm_Q0GA_0_10', 'MWvCcwTw7Ac_78_86', 'BVjvRpmHg0w_231_250', '2YhDTpzxd3c_166_170', 'VahnQw2gTQY_298_305', 'hJFBXHtxKIc_286_291', 'd', 'lc9bA-hvqHU_1_6', '0lh_UWF9ZP4_103_110', 'uy0HNWto0UY_18_25', 'ACOmKiJDkA4_75_81', 'uO7Eysrs8_k_106_114', 'dmyz_f8Sx14_56_66', '6t0BpjwYKco_230_240', 'YS1mzzhmWWA_9_16', 'F3pmw2ga244_59_65', 'uVPnDJKt1M0_0_6', 'xGdoi3W3Z4o_2_40', 'otLEUwHao_E_140_151', 'HJHPB_Y8GZE_259_263', 'xxHx6s_DbUo_82_86', '_OBlgSz8sSM_15_32', 'fMFvOgb4k6E_35_43', '5P6UU6m3cqk_57_75', 'EqOGzNkekMk_5_15', 'm1NR0uNNs5Y_273_280', 'kEGmZDpZ_RE_352_370', 'zSPBC8EO6dY_64_73', '6mYnZbIwcNo_10_16', 'uJPupV4oLZ0_4_12', 't8Nf1MK7lts_0_10', '6FmN22YcVVE_11_18', 'qeKX-N1nKiM_74_77', 'WTf5EgVY5uU_76_83', 'j7xz1nos-xc_10_20', '229NvV0SRHw_0_5', 'XzCcRzEa83U_39_46', 'yBK02O1Oewc_20_35', '0wutCy2ZGOQ_4_10', 'wn9rDTZj-m4_8_18', '0hyZ__3YhZc_302_307', 'O_Pst-uryQI_1_14', 'IAvBB2lv8iw_142_148', '1Sp2__RCT0c_11_15', 'KrBeBabazDU_15_20', 'YAud4eS3DoA_54_65', 'wpUT0DNB3qs_9_19', '6t0BpjwYKco_142_151', 'NNYLo1OeZ-Q_48_54', 'WTf5EgVY5uU_121_135', '1hPxGmTGarM_9_19', 'R8FDJgVW3Vc_0_4', '8VUbN3hkdBo_36_50', 'NjblUomxFQo_100_108', 'DBvSfds3FH4_84_88', 'fcvW1vr8hAs_96_102', 'Ow_o78zjo14_42_57', 'JnNe61UZsdM_42_51', 'Z3m9V8qPXhQ_13_24', 'C9LHk0AJI7U_196_205', 'IhwPQL9dFYc_24_30', 'Jxw16bqzVqE_18_28', '0hyZ__3YhZc_352_356', 'AE9UaQwum8c_0_10', 'JhCvLmf9yr0_46_50', 'gyOVZz7kXyM_1_10', 'ACOmKiJDkA4_23_30', 'CgWYN5e9K10_30_62', 'BOv-2HzNPaA_7_12', '6t0BpjwYKco_105_110', 'EPgQ9QwbsLE_16_23', '8MVo7fje_oE_180_185', 'xSmfK498DjI_1_20', 'zr9OeyfLPPY_4_9', '5U3xz9Ovmhk_258_265', 'GEXqMH8I3_w_14_18', 's9TklvyLFyI_177_191', '0lh_UWF9ZP4_191_197', 'jxdubZzQrio_33_46', 'EwTZ2xpQwpA_14_21', 'vloe_60s_dk_0_9', 'lKADopH3qFY_0_10', 'e4QGnppJ-ys_6_14', '0k1Ak8aTMVI_4_12', 'xfRIRSWy0y0_10_20', 'xOQn1z_oWDY_30_39', 'zHy7pM0U49w_103_109', '06CbMa0kDr8_3_13', 'm1NR0uNNs5Y_192_198', 'tn1d5DmdMqY_15_28', 'OxL9z2BzBnk_0_19', 'Yh2N6ZtRBdU_110_120', 'UbmZAe5u5FI_132_141', 'gbW9f8xydks_0_10', 'WTf5EgVY5uU_94_98', '64Xn9edeWRA_0_11', 'Puv_4NtflqE_26_34', 'Ms3QdGIzltU_10_20', 'LSuVRWPoHr0_0_37', '6QbhfbLUtQs_13_23', 'E61HNXjgyqA_22_32', 'yOnRm3TP6hM_0_12', 'RiglOfJon8I_3_18', 'g2IYQq7IkXc_23_32', '4PcL6-mjRNk_11_18', 'jPBxl9gFqNY_110_117', 'cUW_bXll6YM_390_395', 'hJFBXHtxKIc_163_168', 'hoinj6vyQ2g_8_16', 'BVjvRpmHg0w_121_130', 'JktNQQnLblQ_4_9', 'ZYaxg5NZW_g_21_27', 'klFyrnrUSck_42_46', 'ZnLgsasu82g_71_81', '2MCpA01Sn_c_75_82', 'sRKQfxxEP4M_117_125', 'po2tcrG6KzM_2_8', 'HYbEf-JKZnA_13_26', 'O9cOSO9L8Zs_1_16', 'd-2C_N5anww_1_3', '9Q0JfdP36kI_19_27', 'akXjIEoecNs_2_12', 'Ce7equ9zCxk_4_19', 'nLz0QuerH1c_8_15', '0lh_UWF9ZP4_165_170', 'kEGmZDpZ_RE_295_330', '8MVo7fje_oE_153_158', 'hW8TKz2Aea4_40_50', 'IWhrWLOAin0_1_4', 'nLvX-erABqY_67_72', 'IBgsLmDcL78_80_84', 'sZf3VDsdDPM_107_114', 'rlQ2kW-FvMk_66_79', 'tmAX2PnRCY0_284_292', 'z_qf7tOnHVg_81_89', 'ulPvRmNfXK4_96_100', 'V6Fxclwdfxc_1_11', 'TZ860P4iTaM_15_28', '04Gt01vatkk_308_321', '1QVn0FffExM_14_24', 'tYh4iDFgmEE_50_54', 'PqvKNqkGI9o_47_52', 'JnNe61UZsdM_78_88', '5JLi7L1Kwp8_23_30', 'Okg8QYhdtvU_48_53', 'Jag7oTemldY_12_25', 'iTA0rWPE4nY_17_23', 'lsanQj2yacs_80_85', 'lFyPUgJCmtU_100_110', '9Q0JfdP36kI_167_170', 'K1ZM0LSLVw8_481_487', 's20OlIRK340_125_138', 'u9prcUCHlqM_503_511', 'emblM4a76jg_5_15', 'klFyrnrUSck_79_85', 'mbesJaS6vwg_187_195', 'AXL1oMdCFUM_45_59', 'za-9mBZyNfQ_330_336', 'PeUHy0A1GF0_28_32', 'qypmR4O1Gwk_0_10', '2L4oELbX8Ms_1_12', '0hyZ__3YhZc_632_637', 'ecVwxlXc1PQ_0_12', 'me1D1WZ0yNM_120_124', 'z1PEyzk4ADU_8_18', 'G_hxdUG6QXE_23_28', '9BScZRpF7SI_31_36', '0hyZ__3YhZc_562_568', 'ACK7SekJWts_140_150', 'LF51fban_x4_300_325', 'Hu9Sq1RvuoA_19_62', 'BOLKaQeB6j0_101_111', 'kWLNZzuo3do_38_47', 'gp8XjWSoP2k_0_10', 'kuNQpRTc-hA_126_135', '8NFoN0K3bPg_20_28', 'yyxtyCaEVqk_321_328', '0hyZ__3YhZc_598_603', 'FoL7aWvpvNs_199_204', 'Zg0p5TXi_Cc_30_46', 'Nd45qJn61Dw_0_10', 'clpgffj3sUw_1_12', '5x_OGEdO6Z8_0_21', 'WG0J2B19ZT8_1_33', 'mmSQTI6gMNQ_120_128', 'IpHJffM3G1c_412_418', 'c76tShLfQb0_74_81', 'WTf5EgVY5uU_54_58', 'kzyFBlNRohs_82_88', 'WPG-BIWOrG4_608_613', 's20OlIRK340_147_174', '1sffYOXq4Iw_23_49', 'jv-eV6jR3Qw_7_12', 'XOAgUVVwKEA_8_20', 'v7iIZXtpIb8_5_15', 'KUc1cWKXjDc_20_30', 'r0E-0ntoNWo_20_30', '30GeJHYoerk_121_126', '-AwoiGR6c8M_10_14', 'mCrRHP4LFmo_24_40', '_O9kWD8nuRU_77_81', '_pj2Nutu5v8_1_8', '_WRC7HXBJpU_451_464', 'o4pL7FObqds_243_263', '9Q0JfdP36kI_23_28', 'FXWdmIHXS_U_3_10', '4JVpbYmqfcI_5_19', 'q8t7iSGAKik_57_74', 'hEOGZoYSvT4_82_86', '3_51FhosiVY_93_101', 'msCidKHOh74_392_399', 'PeUHy0A1GF0_99_103', 'vRC9sBNt9vs_10_16', 'g8LUhxR-6Wg_0_8', '4Tn5S48sCwg_110_118', '0vmoZEaN_-o_4_12', 'WTf5EgVY5uU_16_24', 'CTIKmoEigCI_3_30', 'aN0WsBcja_E_0_15', 'mfJjIOfj6D8_3_10', '3eqFFRSXwGE_84_96', '-8y1Q0rA3n8_95_102', 'WTf5EgVY5uU_104_108', 'fr9H1WLcF1A_256_261', 'KPPCwmU5OHQ_56_62', '27mxaePkYB4_8_14', 'Je3V7U5Ctj4_634_639', 'nZSFn51l3hc_318_326', 'TPhpsIK7pDc_25_32', '0piwbTivpDg_10_40', '1N_Ic2pBM1o_2_23', 'UbmZAe5u5FI_44_55', '77iDIp40m9E_159_181', '9IrWyZ0KZuk_160_166', 'LyYJiKxHZz0_0_10', 'DB-3-TVjrxU_58_75', 'xdhLQCYQ-nQ_50_63', 'Lr8ds5iY5uk_8_15', 'xBW_uR3kGr4_42_55', 'Z-An1QQ66f0_13_25', 'FGjtmhI-Rmk_30_37', '_xf24TYgbuY_14_20', 'jcRCn7MeSbo_71_82', 'kWLNZzuo3do_192_196', 'DKgHYLDebx0_0_8', 'gCra4qOrjFw_1_17', 'onW5hJXnI5s_10_16', 'eiyuac7hA4A_4_47', 'ItFqogTmAvQ_361_365', 'JntMAcTlOF0_50_70', 'yU5sxW9bErQ_0_17', '0sUL0KCIc48_15_25', 'Jj4uYHr65H8_28_35', 'TnPOZVHB3x0_45_55', 'wSwwS_0MKEc_68_78', 'wFPmKChNrhU_3_11', 'lexLAjh8fPA_27_31', 'xxHx6s_DbUo_162_165', 'gHyXstpe_N8_140_150', 'vDhEpqfhVI0_0_8', 'UbmZAe5u5FI_36_40', 'jCplbayVbtw_10_20', 'BVjvRpmHg0w_47_51', 'rw9h_574HxE_251_254', 'kWLNZzuo3do_38_42', 'Rm-RnxN4oHA_215_225', 'RX6NSOuCCAE_13_27', 'BvHnDAsMtUA_0_13', 'POv7JaE3vJ8_40_50', 'QzulzuWr0Zw_20_45', '9LOJmQQktHA_10_18', 'D9I1Z6O_mbw_141_146', 'vulNlhUI6m0_7_27', 'sMscRb9TcQE_146_161', 'FCjpuJaUec0_19_26', 'YUlG_PKzpvc_0_8', 'bLqmf8x7rLI_2_8', 'm4D72WXFd8s_557_564', 'FxIuFwMhOu8_18_26', 'tqxRDVKtkSY_30_45', 'ok4cM6WTA5E_178_184', 'gHyXstpe_N8_95_100', 'u_6tre9_99Q_13_25', 'ao-9B8IV9_E_217_221', 'YmXCfQm0_CA_7_16', '88DOMJ11q2M_84_87', 'YEmS8ZQIhTA_7_20', 'f-24IxG9ijw_25_40', 'IiIiY6o-C9k_59_64', '6GJ1DNOGDAM_223_233', 'bxDlC7YV5is_0_12', 'labytsb3gfI_146_154', 'gHyXstpe_N8_116_125', 'PqSZ89FqpiY_65_75', 'KqKUXRHHkCc_101_105', 'ybVb3t560oY_0_9', 'fBA_lxUiwSg_2_4', 'Oq3FV_zdyy0_843_855', 'NV6pq1W-I4g_7_16', 'CHFXTeQWXjo_206_212', 'cnsjm3fNEec_4_10', 'INDhUwDMg-4_220_227', 'EpMuCrbxE8A_107_115', '4z3b4mnw5y4_56_60', 'iarsmqA3dck_19_25', 'ACOmKiJDkA4_57_65', 'Aa7yf9XtcJM_45_50', 'htry5uxX0-Y_45_52', 'TgFmoZj3NoM_10_18', '62I8I4sCPPQ_12_30', 'UXs3eq68ZjE_280_285', 'g2IYQq7IkXc_124_132', 'Ud3Qy8m6OxQ_52_62', 'JsD6uEZsIsU_45_58', 'qeKX-N1nKiM_52_59', 'ACOmKiJDkA4_47_54', 'yREFkmrrYiw_51_57', 'IytNBm8WA1c_63_67', 'JYNzY9jmsQQ_2_10', 'Ixw6wmoC_xg_60_70', '1dfR0A_BXjw_545_560', 'a1i6T160REQ_5_18', 'bb6V0Grtub4_174_185', 'xxHx6s_DbUo_240_248', 'FavUpD_IjVY_22_26', 'Sq7Vt6KC9Yg_17_35', 'rOic25PnIx8_1_3', 'h0JvF9vpqx8_36_42', '6JnGBs88sL0_4_10', 'MTjrZthHwJQ_2_11', 'WTf5EgVY5uU_218_236', 'P6eo3LULuuc_1_11', 'P4IjNV3lZkQ_136_144', 'pmEKZ6yVewc_0_10', 'r4qv_BNlQNk_119_124', 'LuQ0KiMMhoI_49_64', 'ACOmKiJDkA4_130_144', '8PQiaurIiDM_143_151', 'KPPCwmU5OHQ_258_266', '-rkErLY0rRc_26_35', '4QYPZM01xFE_14_26', 'N6SglZopfmk_97_111', '0ONJfp95yoE_1_10', '9HTUcMjWB3g_122_128', 'TIubRrkku-4_1_10', 'Lyp7MiaCXNE_114_120', 'bL_Kijz9IN4_0_15', 'RMznbCn5sQs_0_10', 'SrDE9-cDz48_4_12', 'qzQzooI4BqU_5_15', 'ri5AyXzxb4o_201_215', 'h0JvF9vpqx8_213_223', 'GopEjCCu2jo_2_9', '-wa0umYJVGg_23_41', 'EVqc7e8JCco_5_15', '6Lzq1HN33lE_5_15', '8z-XGiU1KN4_9_17', 'omGWjiwxcTE_18_23', 'tzd3AYTZq0U_0_6', 'RvJH_POzxmc_10_25', 'pfQPRXcihkI_160_184', '2F9jX7u5nOg_114_130', 'W8_63NiTENw_23_30', '98Alrg4pFXs_148_153', 'SzEbtbNSg04_88_93', 'V4q5dQmpxIE_20_30', 'cLNrpO6wBk4_37_47', '7HcYJKMxpcg_20_28', 'UXs3eq68ZjE_508_513', 'SaOqf2d-y30_22_27', '6owu8Mow0_g_692_697', 'OVEe1DMsOq0_43_52', '0vmoZEaN_-o_5_21', 'xCFCXzDUGjY_5_9', 'xBePrplM4OA_6_18', 'puineN1UMto_25_29', 'e3XkmpNcSt4_8_19', 'PHDmVhShE80_82_86', '7OGizkf_JEo_191_194', 'KeSQ5Rv7eH8_73_79', 'zHy7pM0U49w_110_116', 'HVR7KpItLfA_62_70', '-wa0umYJVGg_286_290', 'H1Bok7Dg7g8_21_26', '6owu8Mow0_g_384_389', 'GEXqMH8I3_w_63_68', 'WAa4-cctmDk_55_70', 'SULWQEAErKw_13_26', 'FTh5zPk34bQ_16_30', '9OxQ-2gR1DU_18_38', 'cSDkshD2ME0_11_14', '3FnUTQMJVXI_31_36', 'zYcY4mjLpxU_104_118', 'hSgGBHbJrmE_0_17', 'ACOmKiJDkA4_67_74', 'X98fLZHIzWQ_15_20', 'hReROJQpSow_24_30', 'PQbkdRbir0M_45_53', '9xVqwy_4pmQ_36_49', '2R_OAYQIkXM_14_22', 'CL49s8bO6Fg_1_11', 'QklHhN8pQBE_0_10', 'zCf8NWJ8kzA_47_52', 'hJuqBDw_TT4_14_25', 'v-9Gx0gJmfo_26_32', 'nc0fVlaTYEs_34_44', '8BL9qmFRbd4_6_13', 'sBjr8UJOpsQ_181_195', 'OIjsSu_I4So_6_10', 'WqwcWk1In_g_46_54', 'lvFYUmDSOvU_34_38', '97JhYpoWxzY_0_4', 'Zqmx-nXhLAg_0_10', 'nb12bAaKzvA_0_10', 'PiyoeFC31kE_9_27', 'AjZ-R3LFMzo_5_10', '6ZhKOK08tgM_45_49', '6owu8Mow0_g_527_534', 'xtbsD3PUua4_174_185', 'zYcY4mjLpxU_45_55', 'EjAoBKagWQA_132_145', 'rNSAmHPYHjA_60_73', '4t5POXt2e68_5_11', '93n_oYVCLpk_9_12', 'F2Ny7rq9RKs_139_148', 'NaX51emUDn4_0_20', 'xaPepCVepCg_35_46', 'tYh4iDFgmEE_10_14', 'vz71JKcpeUU_0_10', 'ACOmKiJDkA4_49_54', 'zuYZ5kPatJE_78_116', 'hJFBXHtxKIc_317_322', '45AGQSbodbU_5_15', 'io2dbV-Qbus_215_247', '2YhDTpzxd3c_22_27', 'FA3OfhJK0mI_195_203', 'eroAmLZ85DI_28_35', 'Els1Cclg_sk_4_15', 'WqQonRVs7WA_0_10', 'uZEGu-TA2cU_42_58', 'nlU3crMsbWI_19_23', '9QI8cgBSGo8_28_41', 'kWLNZzuo3do_17_23', 'kquB3rIgfGk_537_544', '5OuYhq6Zl0g_0_10', 'hJFBXHtxKIc_118_123', 'v5CeGLEnVFE_0_8', '5W02895vT8c_460_470', 'WpB4-eLyiBc_10_20', '6KS8R3RxrV8_0_23', '6t0BpjwYKco_15_31', '-wa0umYJVGg_271_276', 'rnawC5C8gSI_82_90', '27hs9W89FuI_0_10', 'FHwC2THZJfA_0_10', 'MMnnqzOoMF0_68_72', 'QGJy1K91gP4_90_100', 'jLgmCY1fEE8_16_26', 'MPuKVz3sjBA_1_12', 'WTf5EgVY5uU_100_104', 'cWOPC2kt_IA_8_16', 'qvg9eM4Hmzk_1_9', 'ItFqogTmAvQ_240_246', 'aC-KOYQsIvU_25_31', '2mUMTFnQWaw_1_9', '9HDUADeA2xg_3_31', 'jTaLGh_MKCM_5_20', 'btxCxlO1Euc_1_20', 'gWRRHV7DLV0_21_31', 'gvVsgOK1iJw_32_38', 'D1tTBncIsm8_725_740', '1qU-kF-km1Q_6_16', '1mIyMRPV8kg_9_17', 'D2FbgK_kkE8_121_151', 'nhm_APPwhWk_6_12', 'pUPKsHTDZTo_70_85', '2YhDTpzxd3c_115_120', 'xXlWsBhFvis_6_10', 'IhwPQL9dFYc_124_129', '_1vy2HIN60A_32_40', 'PHDmVhShE80_78_82', 'Qtu-PXuvCx4_12_17', 'Kf8oZGHDTt4_4_13', 'Kqb-mmkEWqU_1_5', 'W8l_ezoU8Lc_55_70', 'QHkvBU8diwU_1_18', '-DKuLXYoY3g_14_20', 'Y4BeJ-64294_20_30', 'r2PM0om2El8_18_25', 'sJC7E06IBXI_49_59', 'g1Gldu1KS44_8_14', 'fX5G_JwPlLo_640_660', 'n_Z0-giaspE_270_278', 'kWLNZzuo3do_251_260', '8MVo7fje_oE_125_130', 'iuqVpMdb1NM_35_43', 'kNHivduxQWg_0_14', 'e-j59PqJjSM_264_277', '57C93mpt6Xo_358_368', 'kEGmZDpZ_RE_248_293', 'zBrC1GmA0Qg_26_33', '1dA1RQgPN3c_72_82', 'klFyrnrUSck_87_100', '_KMoC6ZdeXs_10_16', '9Wr48VFhZH8_45_50', '0hyZ__3YhZc_418_424', 'J---aiyznGQ_0_6', 'uH8ObB_dyOk_159_166', 'fjDvKHkmxs0_72_87', 'urNX3e1Wbc8_30_38', 'vuvpbeQak9Q_23_29', 'HZqscSWtHmo_24_34', 'nq4hG6qgyPs_240_251', 'De815YpTBic_41_48', 'ArEWo8pERFc_17_21', 'wLUH7qA_6sA_90_115', 'P2WM91LENgk_40_50', 'qPXynwa_2iM_15_25', 'zfQOH4UGU_I_1_10', 'WTf5EgVY5uU_58_76', 'qeKX-N1nKiM_68_72', '98shpdib9sg_55_62', 'ScdUht-pM6s_53_63', 'KIEWo_xJ5nU_0_7', 'PJnJMp2ZpbA_3_15', 'hNOzHvsEmg4_31_36', 'QGgJlHi3tjw_1_15', 'RWWvWFeE6_Q_2_26', 'qNjeEx92rTA_281_299', '-FugkxLmGO4_5_16', '7_XASfcYdBk_3_13', 'cFzSEIGrEfA_0_24', 'VZ6H73nH7xs_27_33', 'd_BWuttLRFM_42_52', 'F44bLc6t7-I_1_8', 'DAmOfcvfKZ0_22_32', '77iDIp40m9E_119_123', '9HTUcMjWB3g_134_138', 'WTf5EgVY5uU_66_75', 'GWQTAe64m-0_91_94', 'LYSPQqUvNO0_43_57', 'LacBy2NT3YQ_12_17', 'Lw0eGsYxElA_11_14', 'IiTzJQE67FA_74_86', 'hJuqBDw_TT4_105_112', '_0nX-El-ySo_83_93', 'jvxUeT1Nlb8_100_115', 'f9Won2JpOEU_60_80', 'FOOM-wA2rOY_77_86', '504gE1DA_4g_1_6', 'gtIz1u8g1F0_3_13', 'JIoiUNOXGaI_8_13', '-7KMZQEsJW4_205_208', 'JAFGw0WRHHU_108_116', 'dQmaVQZz7EE_1_18', 'pzq5fPfsPZg_51_57', 'WrsS6X-FB-I_30_47', 'xPR0xFgCAZY_17_27', 'IiTzJQE67FA_36_46', 'QA_JTtM1hKA_5_15', 'JpjAgSvr42k_0_12', 'pFSoWsocv0g_8_17', 'MWvCcwTw7Ac_154_181', 'BnJUWwSx1kE_11_22', 'BIqVvRh_cEY_143_149', '53dc4z7HLyg_25_29', 'xxHx6s_DbUo_173_177', 'jcIrD7rNvTM_10_21', 'DLcuZ-HnHZc_0_10', 'xxHx6s_DbUo_202_207', 'MoqC84sXu88_47_59', 'edqyq4Q-7uU_103_109', 'seTkGZlEU64_81_110', 'VfqlfprZsaQ_75_85', 'KPPCwmU5OHQ_227_238', '7uOiiA4Kxbo_23_35', '2YhDTpzxd3c_98_101', '6t0BpjwYKco_71_76', 'Ayh26v6Nies_17_22', 'fgWFxFg7-GU_10_26', 'XdB0pVjFYoU_1_8', '2G9fkvBzzQE_10_20', '-_hbPLsZvvo_19_25', 'IhwPQL9dFYc_143_147', '_UqnTFs1BLc_23_27', 'fEsrO_poIUg_161_168', 'idRc_KkInds_0_6', 'fvBs0xpEZhQ_10_30', 'gHzws6FpuNE_10_12', 'kWLNZzuo3do_31_37', '0hyZ__3YhZc_410_417', '74tRCYS_534_49_57', 'nd0ToNwccl4_12_17', 'aeA-HN7BMdo_16_33', 'J7zb8YXrmIA_93_99', '4MjTb5A68VA_111_118', 'HDcIB1e9s5A_28_34', 'ao-9B8IV9_E_72_77', 'cSDkshD2ME0_12_15', 'rq2p5ML8-WI_63_69', 'YmXCfQm0_CA_50_57', 'C_1cnNdMwxY_0_8', 'RJNBxdDQOw4_13_26', 'VahnQw2gTQY_274_280', 'XtQdAPV2UZs_4_11', 'VxM96IYzw0Q_2_15', 'xxHx6s_DbUo_32_36', 'QOmrchUPnBs_10_20', 'BVy9SQI5R68_0_7', 'ggic669elLM_200_215', '5U3xz9Ovmhk_99_105', '6t0BpjwYKco_254_258', '_JVxurtGIhI_32_42', '8MVo7fje_oE_85_90', 'b_BuSVZwq6M_1_9', 'pQYEZTwSVbQ_12_18', 'W6_XuNhgtrM_2_5', 'xxHx6s_DbUo_121_128', 'cCmnN96zIeQ_14_24', 'yd8jh9QYfEs_4_10', 'QVSt5USMkMg_43_50']\n"
          ]
        }
      ],
      "source": [
        "print(features_files)"
      ]
    },
    {
      "cell_type": "code",
      "execution_count": null,
      "metadata": {
        "colab": {
          "base_uri": "https://localhost:8080/"
        },
        "id": "JlmY36QMrLA8",
        "outputId": "1d7de317-048b-4cb3-c499-afd15b5212ef"
      },
      "outputs": [
        {
          "data": {
            "text/plain": [
              "1478"
            ]
          },
          "execution_count": 26,
          "metadata": {},
          "output_type": "execute_result"
        }
      ],
      "source": [
        "len(features_files)"
      ]
    },
    {
      "cell_type": "code",
      "execution_count": null,
      "metadata": {
        "id": "srfnBJDBrYG5"
      },
      "outputs": [],
      "source": [
        "unprocessed_video_names = []"
      ]
    },
    {
      "cell_type": "code",
      "execution_count": null,
      "metadata": {
        "colab": {
          "base_uri": "https://localhost:8080/"
        },
        "id": "q280GUbcgHiw",
        "outputId": "e51e73a9-9098-4da0-94dc-942f1be1538e"
      },
      "outputs": [
        {
          "name": "stderr",
          "output_type": "stream",
          "text": [
            "100%|██████████| 1150/1150 [00:00<00:00, 96883.65it/s]\n"
          ]
        }
      ],
      "source": [
        "for i in tqdm(range(len(working_video_names))):\n",
        "    if(working_video_names[i] not in features_files):\n",
        "        try:\n",
        "            save_features_from_video_frames(working_video_names[i])\n",
        "            features_files.append(working_video_names[i])\n",
        "        except:\n",
        "            unprocessed_video_names.append(working_video_names[i])\n",
        "            continue"
      ]
    },
    {
      "cell_type": "code",
      "execution_count": null,
      "metadata": {
        "id": "3ymJ9aCWjlj5"
      },
      "outputs": [],
      "source": [
        "# nV3Wv8iHp4U_0_38\n",
        "# 0piwbTivpDg_10_40\n",
        "# eiyuac7hA4A_4_47\n",
        "# JntMAcTlOF0_50_70\n",
        "# QzulzuWr0Zw_20_45\n",
        "# vulNlhUI6m0_7_27\n",
        "# q8t7iSGAKik_57_74"
      ]
    },
    {
      "cell_type": "markdown",
      "metadata": {
        "id": "SYf2C7RljAZv"
      },
      "source": [
        "# Load captions"
      ]
    },
    {
      "cell_type": "code",
      "execution_count": null,
      "metadata": {
        "id": "Qsv9gB3Q4Tsu"
      },
      "outputs": [],
      "source": [
        "captions_path = os.path.dirname(os.getcwd()) + '/Data/AllVideoDescriptions.txt'"
      ]
    },
    {
      "cell_type": "code",
      "execution_count": null,
      "metadata": {
        "id": "ybYZr0pG4Tsw"
      },
      "outputs": [],
      "source": [
        "with open(captions_path, 'r') as file:\n",
        "    captions = file.readlines()"
      ]
    },
    {
      "cell_type": "code",
      "execution_count": null,
      "metadata": {
        "id": "8KxQFPh14Tsy"
      },
      "outputs": [],
      "source": [
        "del captions[:7]"
      ]
    },
    {
      "cell_type": "code",
      "execution_count": null,
      "metadata": {
        "colab": {
          "base_uri": "https://localhost:8080/"
        },
        "id": "FmtzEhUe4Ts0",
        "outputId": "8f121ff4-3b47-4b0f-9622-b93fda36312a"
      },
      "outputs": [
        {
          "data": {
            "text/plain": [
              "['-4wsuPCjDBc_5_15 a squirrel is eating a peanut in it s shell\\n',\n",
              " '-4wsuPCjDBc_5_15 a chipmunk     is eating\\n']"
            ]
          },
          "execution_count": 33,
          "metadata": {},
          "output_type": "execute_result"
        }
      ],
      "source": [
        "captions[:2]"
      ]
    },
    {
      "cell_type": "code",
      "execution_count": null,
      "metadata": {
        "colab": {
          "base_uri": "https://localhost:8080/",
          "height": 35
        },
        "id": "RFy3Cm8v4Ts4",
        "outputId": "41eb5785-2ad7-4e4c-ccf8-605b7d094ee2"
      },
      "outputs": [
        {
          "data": {
            "application/vnd.google.colaboratory.intrinsic+json": {
              "type": "string"
            },
            "text/plain": [
              "'a chipmunk is eating'"
            ]
          },
          "execution_count": 34,
          "metadata": {},
          "output_type": "execute_result"
        }
      ],
      "source": [
        "' '.join(captions[1].split()[1:])"
      ]
    },
    {
      "cell_type": "code",
      "execution_count": null,
      "metadata": {
        "id": "_Yr8xlPU4Ts6"
      },
      "outputs": [],
      "source": [
        "video_id, video_description = [], []"
      ]
    },
    {
      "cell_type": "code",
      "execution_count": null,
      "metadata": {
        "id": "Y4kPlDKP4Ts7"
      },
      "outputs": [],
      "source": [
        "for i, cap in enumerate(captions):\n",
        "    video_id.append(captions[i].split()[0])\n",
        "    video_description.append(' '.join(captions[i].split()[1:]))"
      ]
    },
    {
      "cell_type": "code",
      "execution_count": null,
      "metadata": {
        "id": "sKNA0GRm4Ts9"
      },
      "outputs": [],
      "source": [
        "captions_dic = {'videoID': video_id, 'videoDescription': video_description}"
      ]
    },
    {
      "cell_type": "code",
      "execution_count": null,
      "metadata": {
        "id": "ypJIy5Q04Ts-"
      },
      "outputs": [],
      "source": [
        "captions_df = pd.DataFrame(captions_dic)"
      ]
    },
    {
      "cell_type": "code",
      "execution_count": null,
      "metadata": {
        "colab": {
          "base_uri": "https://localhost:8080/",
          "height": 206
        },
        "id": "V9RUPPry4Ts_",
        "outputId": "66e32899-c737-4035-b314-f5aff503126d"
      },
      "outputs": [
        {
          "data": {
            "text/html": [
              "\n",
              "  <div id=\"df-5fa3fa0f-a622-41a1-8aa3-8a9848bd95ca\">\n",
              "    <div class=\"colab-df-container\">\n",
              "      <div>\n",
              "<style scoped>\n",
              "    .dataframe tbody tr th:only-of-type {\n",
              "        vertical-align: middle;\n",
              "    }\n",
              "\n",
              "    .dataframe tbody tr th {\n",
              "        vertical-align: top;\n",
              "    }\n",
              "\n",
              "    .dataframe thead th {\n",
              "        text-align: right;\n",
              "    }\n",
              "</style>\n",
              "<table border=\"1\" class=\"dataframe\">\n",
              "  <thead>\n",
              "    <tr style=\"text-align: right;\">\n",
              "      <th></th>\n",
              "      <th>videoID</th>\n",
              "      <th>videoDescription</th>\n",
              "    </tr>\n",
              "  </thead>\n",
              "  <tbody>\n",
              "    <tr>\n",
              "      <th>0</th>\n",
              "      <td>-4wsuPCjDBc_5_15</td>\n",
              "      <td>a squirrel is eating a peanut in it s shell</td>\n",
              "    </tr>\n",
              "    <tr>\n",
              "      <th>1</th>\n",
              "      <td>-4wsuPCjDBc_5_15</td>\n",
              "      <td>a chipmunk is eating</td>\n",
              "    </tr>\n",
              "    <tr>\n",
              "      <th>2</th>\n",
              "      <td>-4wsuPCjDBc_5_15</td>\n",
              "      <td>a chipmunk is eating a peanut</td>\n",
              "    </tr>\n",
              "    <tr>\n",
              "      <th>3</th>\n",
              "      <td>-4wsuPCjDBc_5_15</td>\n",
              "      <td>a chipmunk is eating a nut</td>\n",
              "    </tr>\n",
              "    <tr>\n",
              "      <th>4</th>\n",
              "      <td>-4wsuPCjDBc_5_15</td>\n",
              "      <td>a squirrel is eating a nut</td>\n",
              "    </tr>\n",
              "  </tbody>\n",
              "</table>\n",
              "</div>\n",
              "      <button class=\"colab-df-convert\" onclick=\"convertToInteractive('df-5fa3fa0f-a622-41a1-8aa3-8a9848bd95ca')\"\n",
              "              title=\"Convert this dataframe to an interactive table.\"\n",
              "              style=\"display:none;\">\n",
              "        \n",
              "  <svg xmlns=\"http://www.w3.org/2000/svg\" height=\"24px\"viewBox=\"0 0 24 24\"\n",
              "       width=\"24px\">\n",
              "    <path d=\"M0 0h24v24H0V0z\" fill=\"none\"/>\n",
              "    <path d=\"M18.56 5.44l.94 2.06.94-2.06 2.06-.94-2.06-.94-.94-2.06-.94 2.06-2.06.94zm-11 1L8.5 8.5l.94-2.06 2.06-.94-2.06-.94L8.5 2.5l-.94 2.06-2.06.94zm10 10l.94 2.06.94-2.06 2.06-.94-2.06-.94-.94-2.06-.94 2.06-2.06.94z\"/><path d=\"M17.41 7.96l-1.37-1.37c-.4-.4-.92-.59-1.43-.59-.52 0-1.04.2-1.43.59L10.3 9.45l-7.72 7.72c-.78.78-.78 2.05 0 2.83L4 21.41c.39.39.9.59 1.41.59.51 0 1.02-.2 1.41-.59l7.78-7.78 2.81-2.81c.8-.78.8-2.07 0-2.86zM5.41 20L4 18.59l7.72-7.72 1.47 1.35L5.41 20z\"/>\n",
              "  </svg>\n",
              "      </button>\n",
              "      \n",
              "  <style>\n",
              "    .colab-df-container {\n",
              "      display:flex;\n",
              "      flex-wrap:wrap;\n",
              "      gap: 12px;\n",
              "    }\n",
              "\n",
              "    .colab-df-convert {\n",
              "      background-color: #E8F0FE;\n",
              "      border: none;\n",
              "      border-radius: 50%;\n",
              "      cursor: pointer;\n",
              "      display: none;\n",
              "      fill: #1967D2;\n",
              "      height: 32px;\n",
              "      padding: 0 0 0 0;\n",
              "      width: 32px;\n",
              "    }\n",
              "\n",
              "    .colab-df-convert:hover {\n",
              "      background-color: #E2EBFA;\n",
              "      box-shadow: 0px 1px 2px rgba(60, 64, 67, 0.3), 0px 1px 3px 1px rgba(60, 64, 67, 0.15);\n",
              "      fill: #174EA6;\n",
              "    }\n",
              "\n",
              "    [theme=dark] .colab-df-convert {\n",
              "      background-color: #3B4455;\n",
              "      fill: #D2E3FC;\n",
              "    }\n",
              "\n",
              "    [theme=dark] .colab-df-convert:hover {\n",
              "      background-color: #434B5C;\n",
              "      box-shadow: 0px 1px 3px 1px rgba(0, 0, 0, 0.15);\n",
              "      filter: drop-shadow(0px 1px 2px rgba(0, 0, 0, 0.3));\n",
              "      fill: #FFFFFF;\n",
              "    }\n",
              "  </style>\n",
              "\n",
              "      <script>\n",
              "        const buttonEl =\n",
              "          document.querySelector('#df-5fa3fa0f-a622-41a1-8aa3-8a9848bd95ca button.colab-df-convert');\n",
              "        buttonEl.style.display =\n",
              "          google.colab.kernel.accessAllowed ? 'block' : 'none';\n",
              "\n",
              "        async function convertToInteractive(key) {\n",
              "          const element = document.querySelector('#df-5fa3fa0f-a622-41a1-8aa3-8a9848bd95ca');\n",
              "          const dataTable =\n",
              "            await google.colab.kernel.invokeFunction('convertToInteractive',\n",
              "                                                     [key], {});\n",
              "          if (!dataTable) return;\n",
              "\n",
              "          const docLinkHtml = 'Like what you see? Visit the ' +\n",
              "            '<a target=\"_blank\" href=https://colab.research.google.com/notebooks/data_table.ipynb>data table notebook</a>'\n",
              "            + ' to learn more about interactive tables.';\n",
              "          element.innerHTML = '';\n",
              "          dataTable['output_type'] = 'display_data';\n",
              "          await google.colab.output.renderOutput(dataTable, element);\n",
              "          const docLink = document.createElement('div');\n",
              "          docLink.innerHTML = docLinkHtml;\n",
              "          element.appendChild(docLink);\n",
              "        }\n",
              "      </script>\n",
              "    </div>\n",
              "  </div>\n",
              "  "
            ],
            "text/plain": [
              "            videoID                             videoDescription\n",
              "0  -4wsuPCjDBc_5_15  a squirrel is eating a peanut in it s shell\n",
              "1  -4wsuPCjDBc_5_15                         a chipmunk is eating\n",
              "2  -4wsuPCjDBc_5_15                a chipmunk is eating a peanut\n",
              "3  -4wsuPCjDBc_5_15                   a chipmunk is eating a nut\n",
              "4  -4wsuPCjDBc_5_15                   a squirrel is eating a nut"
            ]
          },
          "execution_count": 39,
          "metadata": {},
          "output_type": "execute_result"
        }
      ],
      "source": [
        "captions_df.head()"
      ]
    },
    {
      "cell_type": "code",
      "execution_count": null,
      "metadata": {
        "colab": {
          "base_uri": "https://localhost:8080/",
          "height": 81
        },
        "id": "3vUHVwRlL3Rr",
        "outputId": "e21d6fd5-4893-45ae-cc9a-c90831a6a547"
      },
      "outputs": [
        {
          "data": {
            "text/html": [
              "\n",
              "  <div id=\"df-f98aceb5-297b-462a-a4e5-c874169c5787\">\n",
              "    <div class=\"colab-df-container\">\n",
              "      <div>\n",
              "<style scoped>\n",
              "    .dataframe tbody tr th:only-of-type {\n",
              "        vertical-align: middle;\n",
              "    }\n",
              "\n",
              "    .dataframe tbody tr th {\n",
              "        vertical-align: top;\n",
              "    }\n",
              "\n",
              "    .dataframe thead th {\n",
              "        text-align: right;\n",
              "    }\n",
              "</style>\n",
              "<table border=\"1\" class=\"dataframe\">\n",
              "  <thead>\n",
              "    <tr style=\"text-align: right;\">\n",
              "      <th></th>\n",
              "      <th>videoID</th>\n",
              "      <th>videoDescription</th>\n",
              "    </tr>\n",
              "  </thead>\n",
              "  <tbody>\n",
              "    <tr>\n",
              "      <th>80827</th>\n",
              "      <td>d</td>\n",
              "      <td>the horse</td>\n",
              "    </tr>\n",
              "  </tbody>\n",
              "</table>\n",
              "</div>\n",
              "      <button class=\"colab-df-convert\" onclick=\"convertToInteractive('df-f98aceb5-297b-462a-a4e5-c874169c5787')\"\n",
              "              title=\"Convert this dataframe to an interactive table.\"\n",
              "              style=\"display:none;\">\n",
              "        \n",
              "  <svg xmlns=\"http://www.w3.org/2000/svg\" height=\"24px\"viewBox=\"0 0 24 24\"\n",
              "       width=\"24px\">\n",
              "    <path d=\"M0 0h24v24H0V0z\" fill=\"none\"/>\n",
              "    <path d=\"M18.56 5.44l.94 2.06.94-2.06 2.06-.94-2.06-.94-.94-2.06-.94 2.06-2.06.94zm-11 1L8.5 8.5l.94-2.06 2.06-.94-2.06-.94L8.5 2.5l-.94 2.06-2.06.94zm10 10l.94 2.06.94-2.06 2.06-.94-2.06-.94-.94-2.06-.94 2.06-2.06.94z\"/><path d=\"M17.41 7.96l-1.37-1.37c-.4-.4-.92-.59-1.43-.59-.52 0-1.04.2-1.43.59L10.3 9.45l-7.72 7.72c-.78.78-.78 2.05 0 2.83L4 21.41c.39.39.9.59 1.41.59.51 0 1.02-.2 1.41-.59l7.78-7.78 2.81-2.81c.8-.78.8-2.07 0-2.86zM5.41 20L4 18.59l7.72-7.72 1.47 1.35L5.41 20z\"/>\n",
              "  </svg>\n",
              "      </button>\n",
              "      \n",
              "  <style>\n",
              "    .colab-df-container {\n",
              "      display:flex;\n",
              "      flex-wrap:wrap;\n",
              "      gap: 12px;\n",
              "    }\n",
              "\n",
              "    .colab-df-convert {\n",
              "      background-color: #E8F0FE;\n",
              "      border: none;\n",
              "      border-radius: 50%;\n",
              "      cursor: pointer;\n",
              "      display: none;\n",
              "      fill: #1967D2;\n",
              "      height: 32px;\n",
              "      padding: 0 0 0 0;\n",
              "      width: 32px;\n",
              "    }\n",
              "\n",
              "    .colab-df-convert:hover {\n",
              "      background-color: #E2EBFA;\n",
              "      box-shadow: 0px 1px 2px rgba(60, 64, 67, 0.3), 0px 1px 3px 1px rgba(60, 64, 67, 0.15);\n",
              "      fill: #174EA6;\n",
              "    }\n",
              "\n",
              "    [theme=dark] .colab-df-convert {\n",
              "      background-color: #3B4455;\n",
              "      fill: #D2E3FC;\n",
              "    }\n",
              "\n",
              "    [theme=dark] .colab-df-convert:hover {\n",
              "      background-color: #434B5C;\n",
              "      box-shadow: 0px 1px 3px 1px rgba(0, 0, 0, 0.15);\n",
              "      filter: drop-shadow(0px 1px 2px rgba(0, 0, 0, 0.3));\n",
              "      fill: #FFFFFF;\n",
              "    }\n",
              "  </style>\n",
              "\n",
              "      <script>\n",
              "        const buttonEl =\n",
              "          document.querySelector('#df-f98aceb5-297b-462a-a4e5-c874169c5787 button.colab-df-convert');\n",
              "        buttonEl.style.display =\n",
              "          google.colab.kernel.accessAllowed ? 'block' : 'none';\n",
              "\n",
              "        async function convertToInteractive(key) {\n",
              "          const element = document.querySelector('#df-f98aceb5-297b-462a-a4e5-c874169c5787');\n",
              "          const dataTable =\n",
              "            await google.colab.kernel.invokeFunction('convertToInteractive',\n",
              "                                                     [key], {});\n",
              "          if (!dataTable) return;\n",
              "\n",
              "          const docLinkHtml = 'Like what you see? Visit the ' +\n",
              "            '<a target=\"_blank\" href=https://colab.research.google.com/notebooks/data_table.ipynb>data table notebook</a>'\n",
              "            + ' to learn more about interactive tables.';\n",
              "          element.innerHTML = '';\n",
              "          dataTable['output_type'] = 'display_data';\n",
              "          await google.colab.output.renderOutput(dataTable, element);\n",
              "          const docLink = document.createElement('div');\n",
              "          docLink.innerHTML = docLinkHtml;\n",
              "          element.appendChild(docLink);\n",
              "        }\n",
              "      </script>\n",
              "    </div>\n",
              "  </div>\n",
              "  "
            ],
            "text/plain": [
              "      videoID videoDescription\n",
              "80827       d        the horse"
            ]
          },
          "execution_count": 40,
          "metadata": {},
          "output_type": "execute_result"
        }
      ],
      "source": [
        "captions_df[captions_df['videoID']=='d']"
      ]
    },
    {
      "cell_type": "code",
      "execution_count": null,
      "metadata": {
        "colab": {
          "base_uri": "https://localhost:8080/"
        },
        "id": "C7AoMPy1TYzn",
        "outputId": "ed863403-b50c-47ee-cdb0-6ccbf98b9ff0"
      },
      "outputs": [
        {
          "data": {
            "text/plain": [
              "count    80828.000000\n",
              "mean         7.025734\n",
              "std          2.810604\n",
              "min          1.000000\n",
              "25%          5.000000\n",
              "50%          6.000000\n",
              "75%          8.000000\n",
              "max         45.000000\n",
              "Name: videoDescription, dtype: float64"
            ]
          },
          "execution_count": 41,
          "metadata": {},
          "output_type": "execute_result"
        }
      ],
      "source": [
        "# The length of captions in words\n",
        "captions_df[\"videoDescription\"].str.split().str.len().describe()"
      ]
    },
    {
      "cell_type": "markdown",
      "metadata": {
        "id": "MBEFkIfSkhIX"
      },
      "source": [
        "### Only keep captions for videos present in training data"
      ]
    },
    {
      "cell_type": "code",
      "execution_count": null,
      "metadata": {
        "colab": {
          "base_uri": "https://localhost:8080/"
        },
        "id": "x57-rX23t8hz",
        "outputId": "734611ec-9017-46c2-e2d6-3c27ddb29595"
      },
      "outputs": [
        {
          "data": {
            "text/plain": [
              "1971"
            ]
          },
          "execution_count": 42,
          "metadata": {},
          "output_type": "execute_result"
        }
      ],
      "source": [
        "len(captions_df[\"videoID\"].unique())"
      ]
    },
    {
      "cell_type": "code",
      "execution_count": null,
      "metadata": {
        "id": "r8uKyf7Kt8h0"
      },
      "outputs": [],
      "source": [
        "from pathlib import Path"
      ]
    },
    {
      "cell_type": "code",
      "execution_count": null,
      "metadata": {
        "id": "hxNrmWpqt8h1"
      },
      "outputs": [],
      "source": [
        "def check_if_video_exists(video_name):\n",
        "    video_path = os.path.dirname(os.getcwd()) + '/Data/video_frame_features/' + video_name + \".npy\"\n",
        "    my_file = Path(video_path)\n",
        "\n",
        "    if my_file.is_file():\n",
        "        return True\n",
        "    else:\n",
        "        return False"
      ]
    },
    {
      "cell_type": "code",
      "execution_count": null,
      "metadata": {
        "id": "FS8jF2Pqt8h1"
      },
      "outputs": [],
      "source": [
        "captions_df = captions_df[captions_df[\"videoID\"].apply(check_if_video_exists)]"
      ]
    },
    {
      "cell_type": "code",
      "execution_count": null,
      "metadata": {
        "colab": {
          "base_uri": "https://localhost:8080/"
        },
        "id": "y6Nrh96ut8h2",
        "outputId": "fb41d8e1-b68f-4a64-dfa2-986d9ea72fe6"
      },
      "outputs": [
        {
          "data": {
            "text/plain": [
              "60109"
            ]
          },
          "execution_count": 46,
          "metadata": {},
          "output_type": "execute_result"
        }
      ],
      "source": [
        "len(captions_df)"
      ]
    },
    {
      "cell_type": "markdown",
      "metadata": {
        "id": "VGfvTUcDlVAt"
      },
      "source": [
        "# Tokenize the captions"
      ]
    },
    {
      "cell_type": "code",
      "execution_count": null,
      "metadata": {
        "colab": {
          "base_uri": "https://localhost:8080/",
          "height": 35
        },
        "id": "CijcVrDsZenf",
        "outputId": "f4a922a4-eadb-45a4-d14e-b3dce22feb32"
      },
      "outputs": [
        {
          "data": {
            "application/vnd.google.colaboratory.intrinsic+json": {
              "type": "string"
            },
            "text/plain": [
              "'a squirrel is eating a peanut in it s shell'"
            ]
          },
          "execution_count": 47,
          "metadata": {},
          "output_type": "execute_result"
        }
      ],
      "source": [
        "captions_df[\"videoDescription\"].iloc[0]"
      ]
    },
    {
      "cell_type": "code",
      "execution_count": null,
      "metadata": {
        "colab": {
          "base_uri": "https://localhost:8080/"
        },
        "id": "F9YvzlzPt8h6",
        "outputId": "7d6ecf57-0a8a-4c2b-9579-90c9ca771425"
      },
      "outputs": [
        {
          "name": "stderr",
          "output_type": "stream",
          "text": [
            "<ipython-input-48-847abc2a03f4>:4: FutureWarning: The default value of regex will change from True to False in a future version.\n",
            "  .str.replace(r\"<br\\s*/?>\", r\" \")\n",
            "<ipython-input-48-847abc2a03f4>:6: FutureWarning: The default value of regex will change from True to False in a future version.\n",
            "  .str.replace(r\"[^a-zA-Z']\", r\" \")\n"
          ]
        }
      ],
      "source": [
        "# remove punctuation from the captions, all symbols to lowercase, split the caption into words\n",
        "captions_df[\"videoDescription\"] = (\n",
        "    captions_df[\"videoDescription\"]\n",
        "    .str.replace(r\"<br\\s*/?>\", r\" \")\n",
        "    .str.lower()\n",
        "    .str.replace(r\"[^a-zA-Z']\", r\" \")\n",
        "    .str.split()\n",
        ")"
      ]
    },
    {
      "cell_type": "code",
      "execution_count": null,
      "metadata": {
        "colab": {
          "base_uri": "https://localhost:8080/"
        },
        "id": "skVodXRkt8h6",
        "outputId": "9c691f60-4bac-49fb-991a-32912fbbd8c8"
      },
      "outputs": [
        {
          "data": {
            "text/plain": [
              "0    [a, squirrel, is, eating, a, peanut, in, it, s...\n",
              "1                            [a, chipmunk, is, eating]\n",
              "2                 [a, chipmunk, is, eating, a, peanut]\n",
              "3                    [a, chipmunk, is, eating, a, nut]\n",
              "4                    [a, squirrel, is, eating, a, nut]\n",
              "Name: videoDescription, dtype: object"
            ]
          },
          "execution_count": 49,
          "metadata": {},
          "output_type": "execute_result"
        }
      ],
      "source": [
        "captions_df[\"videoDescription\"].head()"
      ]
    },
    {
      "cell_type": "code",
      "execution_count": null,
      "metadata": {
        "id": "L7JOx3bdt8h7"
      },
      "outputs": [],
      "source": [
        "captions_df[\"Description_length\"] = captions_df[\"videoDescription\"].map(len)"
      ]
    },
    {
      "cell_type": "code",
      "execution_count": null,
      "metadata": {
        "colab": {
          "base_uri": "https://localhost:8080/"
        },
        "id": "WFwufd5j6RvW",
        "outputId": "a0e222cf-fbc2-4052-fe37-ce5276729cb5"
      },
      "outputs": [
        {
          "data": {
            "text/plain": [
              "array([list(['a', 'squirrel', 'is', 'eating', 'a', 'peanut', 'in', 'it', 's', 'shell']),\n",
              "       list(['a', 'chipmunk', 'is', 'eating']),\n",
              "       list(['a', 'chipmunk', 'is', 'eating', 'a', 'peanut']), ...,\n",
              "       list(['a', 'young', 'child', 'is', 'using', 'an', 'exercise', 'machine']),\n",
              "       list(['the', 'boy', 'is', 'exercising']), list(['the', 'horse'])],\n",
              "      dtype=object)"
            ]
          },
          "execution_count": 51,
          "metadata": {},
          "output_type": "execute_result"
        }
      ],
      "source": [
        "captions_df[\"videoDescription\"].values"
      ]
    },
    {
      "cell_type": "code",
      "execution_count": null,
      "metadata": {
        "colab": {
          "base_uri": "https://localhost:8080/",
          "height": 206
        },
        "id": "hd9sSsTf4TtU",
        "outputId": "1912d310-65c1-4beb-d9c8-953a88a293b3"
      },
      "outputs": [
        {
          "data": {
            "text/html": [
              "\n",
              "  <div id=\"df-cdac257d-4bb1-4e8e-9327-51b8b84f543b\">\n",
              "    <div class=\"colab-df-container\">\n",
              "      <div>\n",
              "<style scoped>\n",
              "    .dataframe tbody tr th:only-of-type {\n",
              "        vertical-align: middle;\n",
              "    }\n",
              "\n",
              "    .dataframe tbody tr th {\n",
              "        vertical-align: top;\n",
              "    }\n",
              "\n",
              "    .dataframe thead th {\n",
              "        text-align: right;\n",
              "    }\n",
              "</style>\n",
              "<table border=\"1\" class=\"dataframe\">\n",
              "  <thead>\n",
              "    <tr style=\"text-align: right;\">\n",
              "      <th></th>\n",
              "      <th>videoID</th>\n",
              "      <th>videoDescription</th>\n",
              "      <th>Description_length</th>\n",
              "    </tr>\n",
              "  </thead>\n",
              "  <tbody>\n",
              "    <tr>\n",
              "      <th>0</th>\n",
              "      <td>-4wsuPCjDBc_5_15</td>\n",
              "      <td>[a, squirrel, is, eating, a, peanut, in, it, s...</td>\n",
              "      <td>10</td>\n",
              "    </tr>\n",
              "    <tr>\n",
              "      <th>1</th>\n",
              "      <td>-4wsuPCjDBc_5_15</td>\n",
              "      <td>[a, chipmunk, is, eating]</td>\n",
              "      <td>4</td>\n",
              "    </tr>\n",
              "    <tr>\n",
              "      <th>2</th>\n",
              "      <td>-4wsuPCjDBc_5_15</td>\n",
              "      <td>[a, chipmunk, is, eating, a, peanut]</td>\n",
              "      <td>6</td>\n",
              "    </tr>\n",
              "    <tr>\n",
              "      <th>3</th>\n",
              "      <td>-4wsuPCjDBc_5_15</td>\n",
              "      <td>[a, chipmunk, is, eating, a, nut]</td>\n",
              "      <td>6</td>\n",
              "    </tr>\n",
              "    <tr>\n",
              "      <th>4</th>\n",
              "      <td>-4wsuPCjDBc_5_15</td>\n",
              "      <td>[a, squirrel, is, eating, a, nut]</td>\n",
              "      <td>6</td>\n",
              "    </tr>\n",
              "  </tbody>\n",
              "</table>\n",
              "</div>\n",
              "      <button class=\"colab-df-convert\" onclick=\"convertToInteractive('df-cdac257d-4bb1-4e8e-9327-51b8b84f543b')\"\n",
              "              title=\"Convert this dataframe to an interactive table.\"\n",
              "              style=\"display:none;\">\n",
              "        \n",
              "  <svg xmlns=\"http://www.w3.org/2000/svg\" height=\"24px\"viewBox=\"0 0 24 24\"\n",
              "       width=\"24px\">\n",
              "    <path d=\"M0 0h24v24H0V0z\" fill=\"none\"/>\n",
              "    <path d=\"M18.56 5.44l.94 2.06.94-2.06 2.06-.94-2.06-.94-.94-2.06-.94 2.06-2.06.94zm-11 1L8.5 8.5l.94-2.06 2.06-.94-2.06-.94L8.5 2.5l-.94 2.06-2.06.94zm10 10l.94 2.06.94-2.06 2.06-.94-2.06-.94-.94-2.06-.94 2.06-2.06.94z\"/><path d=\"M17.41 7.96l-1.37-1.37c-.4-.4-.92-.59-1.43-.59-.52 0-1.04.2-1.43.59L10.3 9.45l-7.72 7.72c-.78.78-.78 2.05 0 2.83L4 21.41c.39.39.9.59 1.41.59.51 0 1.02-.2 1.41-.59l7.78-7.78 2.81-2.81c.8-.78.8-2.07 0-2.86zM5.41 20L4 18.59l7.72-7.72 1.47 1.35L5.41 20z\"/>\n",
              "  </svg>\n",
              "      </button>\n",
              "      \n",
              "  <style>\n",
              "    .colab-df-container {\n",
              "      display:flex;\n",
              "      flex-wrap:wrap;\n",
              "      gap: 12px;\n",
              "    }\n",
              "\n",
              "    .colab-df-convert {\n",
              "      background-color: #E8F0FE;\n",
              "      border: none;\n",
              "      border-radius: 50%;\n",
              "      cursor: pointer;\n",
              "      display: none;\n",
              "      fill: #1967D2;\n",
              "      height: 32px;\n",
              "      padding: 0 0 0 0;\n",
              "      width: 32px;\n",
              "    }\n",
              "\n",
              "    .colab-df-convert:hover {\n",
              "      background-color: #E2EBFA;\n",
              "      box-shadow: 0px 1px 2px rgba(60, 64, 67, 0.3), 0px 1px 3px 1px rgba(60, 64, 67, 0.15);\n",
              "      fill: #174EA6;\n",
              "    }\n",
              "\n",
              "    [theme=dark] .colab-df-convert {\n",
              "      background-color: #3B4455;\n",
              "      fill: #D2E3FC;\n",
              "    }\n",
              "\n",
              "    [theme=dark] .colab-df-convert:hover {\n",
              "      background-color: #434B5C;\n",
              "      box-shadow: 0px 1px 3px 1px rgba(0, 0, 0, 0.15);\n",
              "      filter: drop-shadow(0px 1px 2px rgba(0, 0, 0, 0.3));\n",
              "      fill: #FFFFFF;\n",
              "    }\n",
              "  </style>\n",
              "\n",
              "      <script>\n",
              "        const buttonEl =\n",
              "          document.querySelector('#df-cdac257d-4bb1-4e8e-9327-51b8b84f543b button.colab-df-convert');\n",
              "        buttonEl.style.display =\n",
              "          google.colab.kernel.accessAllowed ? 'block' : 'none';\n",
              "\n",
              "        async function convertToInteractive(key) {\n",
              "          const element = document.querySelector('#df-cdac257d-4bb1-4e8e-9327-51b8b84f543b');\n",
              "          const dataTable =\n",
              "            await google.colab.kernel.invokeFunction('convertToInteractive',\n",
              "                                                     [key], {});\n",
              "          if (!dataTable) return;\n",
              "\n",
              "          const docLinkHtml = 'Like what you see? Visit the ' +\n",
              "            '<a target=\"_blank\" href=https://colab.research.google.com/notebooks/data_table.ipynb>data table notebook</a>'\n",
              "            + ' to learn more about interactive tables.';\n",
              "          element.innerHTML = '';\n",
              "          dataTable['output_type'] = 'display_data';\n",
              "          await google.colab.output.renderOutput(dataTable, element);\n",
              "          const docLink = document.createElement('div');\n",
              "          docLink.innerHTML = docLinkHtml;\n",
              "          element.appendChild(docLink);\n",
              "        }\n",
              "      </script>\n",
              "    </div>\n",
              "  </div>\n",
              "  "
            ],
            "text/plain": [
              "            videoID                                   videoDescription  \\\n",
              "0  -4wsuPCjDBc_5_15  [a, squirrel, is, eating, a, peanut, in, it, s...   \n",
              "1  -4wsuPCjDBc_5_15                          [a, chipmunk, is, eating]   \n",
              "2  -4wsuPCjDBc_5_15               [a, chipmunk, is, eating, a, peanut]   \n",
              "3  -4wsuPCjDBc_5_15                  [a, chipmunk, is, eating, a, nut]   \n",
              "4  -4wsuPCjDBc_5_15                  [a, squirrel, is, eating, a, nut]   \n",
              "\n",
              "   Description_length  \n",
              "0                  10  \n",
              "1                   4  \n",
              "2                   6  \n",
              "3                   6  \n",
              "4                   6  "
            ]
          },
          "execution_count": 52,
          "metadata": {},
          "output_type": "execute_result"
        }
      ],
      "source": [
        "captions_df.head()"
      ]
    },
    {
      "cell_type": "code",
      "execution_count": null,
      "metadata": {
        "id": "H1KIexD1t8h7"
      },
      "outputs": [],
      "source": [
        "word_array = np.concatenate(captions_df[\"videoDescription\"].values)"
      ]
    },
    {
      "cell_type": "code",
      "execution_count": null,
      "metadata": {
        "colab": {
          "base_uri": "https://localhost:8080/"
        },
        "id": "iBBZ06CXt8h8",
        "outputId": "5ba45bb9-0d53-428d-b2d4-476397668919"
      },
      "outputs": [
        {
          "data": {
            "text/plain": [
              "421407"
            ]
          },
          "execution_count": 54,
          "metadata": {},
          "output_type": "execute_result"
        }
      ],
      "source": [
        "len(word_array)"
      ]
    },
    {
      "cell_type": "code",
      "execution_count": null,
      "metadata": {
        "id": "wPmvYlLNt8h8"
      },
      "outputs": [],
      "source": [
        "from collections import Counter\n",
        "vocabulary = Counter()"
      ]
    },
    {
      "cell_type": "code",
      "execution_count": null,
      "metadata": {
        "id": "USASCc7nt8h9"
      },
      "outputs": [],
      "source": [
        "vocabulary.update(word_array)"
      ]
    },
    {
      "cell_type": "code",
      "execution_count": null,
      "metadata": {
        "colab": {
          "base_uri": "https://localhost:8080/"
        },
        "id": "JA05bctxt8h9",
        "outputId": "76fbe56a-7256-443c-a404-a8f9775d1e17"
      },
      "outputs": [
        {
          "data": {
            "text/plain": [
              "[('a', 67465),\n",
              " ('is', 33014),\n",
              " ('the', 21774),\n",
              " ('man', 17435),\n",
              " ('woman', 7504),\n",
              " ('on', 6907),\n",
              " ('in', 6729),\n",
              " ('playing', 6071),\n",
              " ('are', 5325),\n",
              " ('of', 4985)]"
            ]
          },
          "execution_count": 57,
          "metadata": {},
          "output_type": "execute_result"
        }
      ],
      "source": [
        "vocabulary.most_common()[:10]"
      ]
    },
    {
      "cell_type": "code",
      "execution_count": null,
      "metadata": {
        "colab": {
          "base_uri": "https://localhost:8080/"
        },
        "id": "aJbtCAdPt8h-",
        "outputId": "f205f929-46cd-4158-ac0a-5c01031daece"
      },
      "outputs": [
        {
          "data": {
            "text/plain": [
              "10822"
            ]
          },
          "execution_count": 58,
          "metadata": {},
          "output_type": "execute_result"
        }
      ],
      "source": [
        "len(vocabulary)"
      ]
    },
    {
      "cell_type": "code",
      "execution_count": null,
      "metadata": {
        "id": "nCh9ebq4t8h-"
      },
      "outputs": [],
      "source": [
        "# only keep a word if the word appeared more than once\n",
        "truncated_vocabulary = {k: v for (k, v) in vocabulary.items() if v > 1}"
      ]
    },
    {
      "cell_type": "code",
      "execution_count": null,
      "metadata": {
        "colab": {
          "base_uri": "https://localhost:8080/"
        },
        "id": "NqlTpA44t8h_",
        "outputId": "75ada4c1-9c53-4565-b0f3-ad4238a4d92f"
      },
      "outputs": [
        {
          "data": {
            "text/plain": [
              "5970"
            ]
          },
          "execution_count": 60,
          "metadata": {},
          "output_type": "execute_result"
        }
      ],
      "source": [
        "vocab_size = len(truncated_vocabulary)\n",
        "vocab_size"
      ]
    },
    {
      "cell_type": "code",
      "execution_count": null,
      "metadata": {
        "id": "K_ZXsjCxt8h_"
      },
      "outputs": [],
      "source": [
        "# dictionary for encoding words into ids\n",
        "# do i need <unk> token or oob_ will cover the need?\n",
        "word_to_id = {word: id_ + 3 for id_, word in enumerate(truncated_vocabulary)}\n",
        "for id_, token in enumerate((\"<pad>\", \"<bos>\", \"<eos>\")):\n",
        "    word_to_id[token] = id_"
      ]
    },
    {
      "cell_type": "code",
      "execution_count": null,
      "metadata": {
        "colab": {
          "base_uri": "https://localhost:8080/"
        },
        "id": "DpP3K09vt8iA",
        "outputId": "d25efc61-03e0-4ac6-802a-21ea09442081"
      },
      "outputs": [
        {
          "data": {
            "text/plain": [
              "['a', 'squirrel', 'is', 'eating', 'a', 'peanut', 'in', 'it', 's', 'shell']"
            ]
          },
          "execution_count": 62,
          "metadata": {},
          "output_type": "execute_result"
        }
      ],
      "source": [
        "caption_example = captions_df[\"videoDescription\"].iloc[0]\n",
        "caption_example"
      ]
    },
    {
      "cell_type": "code",
      "execution_count": null,
      "metadata": {
        "colab": {
          "base_uri": "https://localhost:8080/"
        },
        "id": "aISqE4Jxt8iA",
        "outputId": "df0f21f3-40b0-40ef-d902-4f3bdbd0e6d1"
      },
      "outputs": [
        {
          "name": "stdout",
          "output_type": "stream",
          "text": [
            "3\n",
            "4\n",
            "5\n",
            "6\n",
            "3\n",
            "7\n",
            "8\n",
            "9\n",
            "10\n",
            "11\n"
          ]
        }
      ],
      "source": [
        "for word in caption_example:\n",
        "    print(word_to_id.get(word) or vocab_size)"
      ]
    },
    {
      "cell_type": "code",
      "execution_count": null,
      "metadata": {
        "id": "PAr6JTsmt8iB"
      },
      "outputs": [],
      "source": [
        "# dictionary for decoding\n",
        "id_to_word = {id_: word for word, id_ in word_to_id.items()}"
      ]
    },
    {
      "cell_type": "code",
      "execution_count": null,
      "metadata": {
        "colab": {
          "base_uri": "https://localhost:8080/"
        },
        "id": "AwZrPIUSt8iC",
        "outputId": "d4adf277-dcf2-43b2-ec0d-fca1026cd275"
      },
      "outputs": [
        {
          "data": {
            "text/plain": [
              "[3, 4, 5, 6, 3, 7, 8, 9, 10, 11]"
            ]
          },
          "execution_count": 65,
          "metadata": {},
          "output_type": "execute_result"
        }
      ],
      "source": [
        "encoded_caption_example = [word_to_id[word] for word in caption_example]\n",
        "encoded_caption_example"
      ]
    },
    {
      "cell_type": "code",
      "execution_count": null,
      "metadata": {
        "colab": {
          "base_uri": "https://localhost:8080/"
        },
        "id": "231_m1Vgt8iD",
        "outputId": "8bdd5a93-eddb-4f4d-bafb-39bbe4c8604d"
      },
      "outputs": [
        {
          "data": {
            "text/plain": [
              "['a', 'squirrel', 'is', 'eating', 'a', 'peanut', 'in', 'it', 's', 'shell']"
            ]
          },
          "execution_count": 66,
          "metadata": {},
          "output_type": "execute_result"
        }
      ],
      "source": [
        "[id_to_word[id_] for id_ in encoded_caption_example]"
      ]
    },
    {
      "cell_type": "code",
      "execution_count": null,
      "metadata": {
        "id": "pBMgWd53t8iD"
      },
      "outputs": [],
      "source": [
        "words = tf.constant(list(id_to_word.values()))\n",
        "word_ids = tf.constant(list(word_to_id.values()), dtype=tf.int64)\n",
        "vocab_init = tf.lookup.KeyValueTensorInitializer(words, word_ids)\n",
        "num_oov_buckets = 1\n",
        "table = tf.lookup.StaticVocabularyTable(vocab_init, num_oov_buckets)"
      ]
    },
    {
      "cell_type": "code",
      "execution_count": null,
      "metadata": {
        "colab": {
          "base_uri": "https://localhost:8080/"
        },
        "id": "dfjUpxGUIdfP",
        "outputId": "32fef474-b072-4fe1-a43f-5a806d2c4260"
      },
      "outputs": [
        {
          "data": {
            "text/plain": [
              "<tf.Tensor: shape=(), dtype=int64, numpy=5974>"
            ]
          },
          "execution_count": 68,
          "metadata": {},
          "output_type": "execute_result"
        }
      ],
      "source": [
        "table.size()"
      ]
    },
    {
      "cell_type": "code",
      "execution_count": null,
      "metadata": {
        "id": "kQlvNJiut8iE"
      },
      "outputs": [],
      "source": [
        "vocab_size = len(words)"
      ]
    },
    {
      "cell_type": "code",
      "execution_count": null,
      "metadata": {
        "colab": {
          "base_uri": "https://localhost:8080/"
        },
        "id": "A10eXECl4Tt1",
        "outputId": "7cbb8a3d-585d-47ee-dd09-6adfbffadad7"
      },
      "outputs": [
        {
          "data": {
            "text/plain": [
              "5973"
            ]
          },
          "execution_count": 70,
          "metadata": {},
          "output_type": "execute_result"
        }
      ],
      "source": [
        "vocab_size"
      ]
    },
    {
      "cell_type": "code",
      "execution_count": null,
      "metadata": {
        "colab": {
          "base_uri": "https://localhost:8080/"
        },
        "id": "7BFZv5mZ4Tt3",
        "outputId": "e6a038d7-a97d-4509-d584-b4e6224f2394"
      },
      "outputs": [
        {
          "data": {
            "text/plain": [
              "['a', 'squirrel', 'is', 'eating', 'a', 'peanut', 'in', 'it', 's', 'shell']"
            ]
          },
          "execution_count": 71,
          "metadata": {},
          "output_type": "execute_result"
        }
      ],
      "source": [
        "caption_example"
      ]
    },
    {
      "cell_type": "code",
      "execution_count": null,
      "metadata": {
        "colab": {
          "base_uri": "https://localhost:8080/"
        },
        "id": "ikIpq21mt8iE",
        "outputId": "00b88786-4e00-43ff-cdf2-7cd34386fb7c"
      },
      "outputs": [
        {
          "data": {
            "text/plain": [
              "<tf.Tensor: shape=(10,), dtype=int64, numpy=array([ 3,  4,  5,  6,  3,  7,  8,  9, 10, 11])>"
            ]
          },
          "execution_count": 72,
          "metadata": {},
          "output_type": "execute_result"
        }
      ],
      "source": [
        "table.lookup(tf.constant(caption_example))"
      ]
    },
    {
      "cell_type": "code",
      "execution_count": null,
      "metadata": {
        "id": "UaF0SnQht8iE"
      },
      "outputs": [],
      "source": [
        "def encode_words_to_id(word_list):\n",
        "    return table.lookup(tf.constant(word_list))"
      ]
    },
    {
      "cell_type": "markdown",
      "metadata": {
        "id": "3q7ZGqSWezMZ"
      },
      "source": [
        "## GloVe Embeddings"
      ]
    },
    {
      "cell_type": "code",
      "execution_count": null,
      "metadata": {
        "colab": {
          "base_uri": "https://localhost:8080/"
        },
        "id": "_v_IuaOsezMa",
        "outputId": "25c9f56c-4fa3-4b75-9a8d-dcfd048d6123"
      },
      "outputs": [
        {
          "name": "stderr",
          "output_type": "stream",
          "text": [
            "400000it [00:27, 14577.35it/s]\n"
          ]
        }
      ],
      "source": [
        "path_to_glove_file = os.path.dirname(os.getcwd()) + '/Data/glove.6B.300d.txt'\n",
        "\n",
        "embeddings_index = {}\n",
        "with open(path_to_glove_file, encoding=\"utf8\") as glove_file:\n",
        "    for line in tqdm(glove_file):\n",
        "        word, coefs = line.split(maxsplit=1)\n",
        "        coefs = np.fromstring(coefs, dtype=\"f\", sep=\" \")\n",
        "        embeddings_index[word] = coefs"
      ]
    },
    {
      "cell_type": "code",
      "execution_count": null,
      "metadata": {
        "colab": {
          "base_uri": "https://localhost:8080/"
        },
        "id": "8Giia2_sezMb",
        "outputId": "4804bbfb-67f0-4f69-993a-4fc6c8222755"
      },
      "outputs": [
        {
          "name": "stdout",
          "output_type": "stream",
          "text": [
            "Converted 5624 words (349 misses)\n"
          ]
        }
      ],
      "source": [
        "embed_size = 300\n",
        "hits = 0\n",
        "misses = 0\n",
        "# Prepare embedding matrix\n",
        "# initialize it randomly with values from -1 to 1\n",
        "embedding_matrix = (np.random.rand(vocab_size + num_oov_buckets, embed_size) * 2) - 1\n",
        "for word, i in word_to_id.items():\n",
        "  #\n",
        "  embedding_vector = embeddings_index.get(word)\n",
        "  if embedding_vector is not None:\n",
        "    #\n",
        "    embedding_matrix[i] = embedding_vector\n",
        "    hits += 1\n",
        "  else:\n",
        "    #\n",
        "    misses += 1\n",
        "print(\"Converted %d words (%d misses)\" % (hits, misses))"
      ]
    },
    {
      "cell_type": "code",
      "execution_count": null,
      "metadata": {
        "id": "PiDXLz3gezMc"
      },
      "outputs": [],
      "source": [
        "embedding_layer = keras.layers.Embedding(\n",
        "    vocab_size + num_oov_buckets,\n",
        "    embed_size,\n",
        "    embeddings_initializer=keras.initializers.Constant(embedding_matrix),\n",
        "    trainable=True,\n",
        "    name=\"caption_embedding\",\n",
        ")"
      ]
    },
    {
      "cell_type": "code",
      "execution_count": null,
      "metadata": {
        "id": "pjP_qOxLezMc"
      },
      "outputs": [],
      "source": [
        "del embeddings_index"
      ]
    },
    {
      "cell_type": "markdown",
      "metadata": {
        "id": "_RcVM7GQvMwT"
      },
      "source": [
        "## Subword tokenization"
      ]
    },
    {
      "cell_type": "code",
      "execution_count": null,
      "metadata": {
        "id": "xTh663UvJZ50"
      },
      "outputs": [],
      "source": [
        "# !pip install tokenizers"
      ]
    },
    {
      "cell_type": "code",
      "execution_count": null,
      "metadata": {
        "id": "gPx8iJGBvvgd"
      },
      "outputs": [],
      "source": [
        "# from tokenizers import Tokenizer\n",
        "# from tokenizers.models import WordPiece"
      ]
    },
    {
      "cell_type": "code",
      "execution_count": null,
      "metadata": {
        "id": "BzSh0fFPezMe"
      },
      "outputs": [],
      "source": [
        "# tokenizer = Tokenizer(WordPiece(unk_token=\"<unk>\"))"
      ]
    },
    {
      "cell_type": "code",
      "execution_count": null,
      "metadata": {
        "id": "HXAtQwLfezMe"
      },
      "outputs": [],
      "source": [
        "# vocab_size = 4000"
      ]
    },
    {
      "cell_type": "code",
      "execution_count": null,
      "metadata": {
        "id": "cHOtdfpxezMf"
      },
      "outputs": [],
      "source": [
        "# from tokenizers.trainers import WordPieceTrainer\n",
        "\n",
        "# trainer = WordPieceTrainer(vocab_size=vocab_size, special_tokens=[\"<pad>\", \"<bos>\", \"<eos>\", \"<unk>\"])"
      ]
    },
    {
      "cell_type": "code",
      "execution_count": null,
      "metadata": {
        "id": "HjoU6osOezMf"
      },
      "outputs": [],
      "source": [
        "# from tokenizers.pre_tokenizers import Whitespace\n",
        "\n",
        "# tokenizer.pre_tokenizer = Whitespace()"
      ]
    },
    {
      "cell_type": "code",
      "execution_count": null,
      "metadata": {
        "id": "lz17ldPMezMg"
      },
      "outputs": [],
      "source": [
        "# captions_df[\"Description\"].values"
      ]
    },
    {
      "cell_type": "code",
      "execution_count": null,
      "metadata": {
        "id": "u5ZXUwnRezMg"
      },
      "outputs": [],
      "source": [
        "# # remove punctuation from the captions, all symbols to lowercase\n",
        "# captions_df[\"Description\"] = (\n",
        "#     captions_df[\"Description\"]\n",
        "#     .str.replace(r\"<br\\s*/?>\", r\" \")\n",
        "#     .str.lower()\n",
        "#     .str.replace(r\"[^a-zA-Z']\", r\" \")\n",
        "#     .values\n",
        "# )"
      ]
    },
    {
      "cell_type": "code",
      "execution_count": null,
      "metadata": {
        "id": "GLWAGotnezMh"
      },
      "outputs": [],
      "source": [
        "# tokenizer.train_from_iterator(captions_df[\"Description\"].values, trainer)"
      ]
    },
    {
      "cell_type": "code",
      "execution_count": null,
      "metadata": {
        "id": "G_DyJ16iezMh"
      },
      "outputs": [],
      "source": [
        "# output = tokenizer.encode(\"the man chops onionsss\")"
      ]
    },
    {
      "cell_type": "code",
      "execution_count": null,
      "metadata": {
        "id": "xEZmgW4aezMh"
      },
      "outputs": [],
      "source": [
        "# output.ids"
      ]
    },
    {
      "cell_type": "code",
      "execution_count": null,
      "metadata": {
        "id": "gPPnBn5lezMi"
      },
      "outputs": [],
      "source": [
        "# captions_df[\"Description_encoded\"] = captions_df[\"Description\"].map(\n",
        "#     lambda x: tokenizer.encode(x).ids\n",
        "# )"
      ]
    },
    {
      "cell_type": "code",
      "execution_count": null,
      "metadata": {
        "id": "_OokeJpLezMi"
      },
      "outputs": [],
      "source": [
        "# captions_df[\"Description_encoded_length\"] = captions_df[\"Description_encoded\"].map(len)"
      ]
    },
    {
      "cell_type": "markdown",
      "metadata": {
        "id": "O9S8dhvlt8iF"
      },
      "source": [
        "# Prepare data for the model"
      ]
    },
    {
      "cell_type": "code",
      "execution_count": null,
      "metadata": {
        "colab": {
          "base_uri": "https://localhost:8080/",
          "height": 206
        },
        "id": "hS-OuaHoLFMS",
        "outputId": "3dbb20c4-6aa8-4dbe-d020-d69f26661d40"
      },
      "outputs": [
        {
          "data": {
            "text/html": [
              "\n",
              "  <div id=\"df-337f8db0-4b59-46af-8294-26b95230f7a2\">\n",
              "    <div class=\"colab-df-container\">\n",
              "      <div>\n",
              "<style scoped>\n",
              "    .dataframe tbody tr th:only-of-type {\n",
              "        vertical-align: middle;\n",
              "    }\n",
              "\n",
              "    .dataframe tbody tr th {\n",
              "        vertical-align: top;\n",
              "    }\n",
              "\n",
              "    .dataframe thead th {\n",
              "        text-align: right;\n",
              "    }\n",
              "</style>\n",
              "<table border=\"1\" class=\"dataframe\">\n",
              "  <thead>\n",
              "    <tr style=\"text-align: right;\">\n",
              "      <th></th>\n",
              "      <th>videoID</th>\n",
              "      <th>videoDescription</th>\n",
              "      <th>Description_length</th>\n",
              "    </tr>\n",
              "  </thead>\n",
              "  <tbody>\n",
              "    <tr>\n",
              "      <th>0</th>\n",
              "      <td>-4wsuPCjDBc_5_15</td>\n",
              "      <td>[a, squirrel, is, eating, a, peanut, in, it, s...</td>\n",
              "      <td>10</td>\n",
              "    </tr>\n",
              "    <tr>\n",
              "      <th>1</th>\n",
              "      <td>-4wsuPCjDBc_5_15</td>\n",
              "      <td>[a, chipmunk, is, eating]</td>\n",
              "      <td>4</td>\n",
              "    </tr>\n",
              "    <tr>\n",
              "      <th>2</th>\n",
              "      <td>-4wsuPCjDBc_5_15</td>\n",
              "      <td>[a, chipmunk, is, eating, a, peanut]</td>\n",
              "      <td>6</td>\n",
              "    </tr>\n",
              "    <tr>\n",
              "      <th>3</th>\n",
              "      <td>-4wsuPCjDBc_5_15</td>\n",
              "      <td>[a, chipmunk, is, eating, a, nut]</td>\n",
              "      <td>6</td>\n",
              "    </tr>\n",
              "    <tr>\n",
              "      <th>4</th>\n",
              "      <td>-4wsuPCjDBc_5_15</td>\n",
              "      <td>[a, squirrel, is, eating, a, nut]</td>\n",
              "      <td>6</td>\n",
              "    </tr>\n",
              "  </tbody>\n",
              "</table>\n",
              "</div>\n",
              "      <button class=\"colab-df-convert\" onclick=\"convertToInteractive('df-337f8db0-4b59-46af-8294-26b95230f7a2')\"\n",
              "              title=\"Convert this dataframe to an interactive table.\"\n",
              "              style=\"display:none;\">\n",
              "        \n",
              "  <svg xmlns=\"http://www.w3.org/2000/svg\" height=\"24px\"viewBox=\"0 0 24 24\"\n",
              "       width=\"24px\">\n",
              "    <path d=\"M0 0h24v24H0V0z\" fill=\"none\"/>\n",
              "    <path d=\"M18.56 5.44l.94 2.06.94-2.06 2.06-.94-2.06-.94-.94-2.06-.94 2.06-2.06.94zm-11 1L8.5 8.5l.94-2.06 2.06-.94-2.06-.94L8.5 2.5l-.94 2.06-2.06.94zm10 10l.94 2.06.94-2.06 2.06-.94-2.06-.94-.94-2.06-.94 2.06-2.06.94z\"/><path d=\"M17.41 7.96l-1.37-1.37c-.4-.4-.92-.59-1.43-.59-.52 0-1.04.2-1.43.59L10.3 9.45l-7.72 7.72c-.78.78-.78 2.05 0 2.83L4 21.41c.39.39.9.59 1.41.59.51 0 1.02-.2 1.41-.59l7.78-7.78 2.81-2.81c.8-.78.8-2.07 0-2.86zM5.41 20L4 18.59l7.72-7.72 1.47 1.35L5.41 20z\"/>\n",
              "  </svg>\n",
              "      </button>\n",
              "      \n",
              "  <style>\n",
              "    .colab-df-container {\n",
              "      display:flex;\n",
              "      flex-wrap:wrap;\n",
              "      gap: 12px;\n",
              "    }\n",
              "\n",
              "    .colab-df-convert {\n",
              "      background-color: #E8F0FE;\n",
              "      border: none;\n",
              "      border-radius: 50%;\n",
              "      cursor: pointer;\n",
              "      display: none;\n",
              "      fill: #1967D2;\n",
              "      height: 32px;\n",
              "      padding: 0 0 0 0;\n",
              "      width: 32px;\n",
              "    }\n",
              "\n",
              "    .colab-df-convert:hover {\n",
              "      background-color: #E2EBFA;\n",
              "      box-shadow: 0px 1px 2px rgba(60, 64, 67, 0.3), 0px 1px 3px 1px rgba(60, 64, 67, 0.15);\n",
              "      fill: #174EA6;\n",
              "    }\n",
              "\n",
              "    [theme=dark] .colab-df-convert {\n",
              "      background-color: #3B4455;\n",
              "      fill: #D2E3FC;\n",
              "    }\n",
              "\n",
              "    [theme=dark] .colab-df-convert:hover {\n",
              "      background-color: #434B5C;\n",
              "      box-shadow: 0px 1px 3px 1px rgba(0, 0, 0, 0.15);\n",
              "      filter: drop-shadow(0px 1px 2px rgba(0, 0, 0, 0.3));\n",
              "      fill: #FFFFFF;\n",
              "    }\n",
              "  </style>\n",
              "\n",
              "      <script>\n",
              "        const buttonEl =\n",
              "          document.querySelector('#df-337f8db0-4b59-46af-8294-26b95230f7a2 button.colab-df-convert');\n",
              "        buttonEl.style.display =\n",
              "          google.colab.kernel.accessAllowed ? 'block' : 'none';\n",
              "\n",
              "        async function convertToInteractive(key) {\n",
              "          const element = document.querySelector('#df-337f8db0-4b59-46af-8294-26b95230f7a2');\n",
              "          const dataTable =\n",
              "            await google.colab.kernel.invokeFunction('convertToInteractive',\n",
              "                                                     [key], {});\n",
              "          if (!dataTable) return;\n",
              "\n",
              "          const docLinkHtml = 'Like what you see? Visit the ' +\n",
              "            '<a target=\"_blank\" href=https://colab.research.google.com/notebooks/data_table.ipynb>data table notebook</a>'\n",
              "            + ' to learn more about interactive tables.';\n",
              "          element.innerHTML = '';\n",
              "          dataTable['output_type'] = 'display_data';\n",
              "          await google.colab.output.renderOutput(dataTable, element);\n",
              "          const docLink = document.createElement('div');\n",
              "          docLink.innerHTML = docLinkHtml;\n",
              "          element.appendChild(docLink);\n",
              "        }\n",
              "      </script>\n",
              "    </div>\n",
              "  </div>\n",
              "  "
            ],
            "text/plain": [
              "            videoID                                   videoDescription  \\\n",
              "0  -4wsuPCjDBc_5_15  [a, squirrel, is, eating, a, peanut, in, it, s...   \n",
              "1  -4wsuPCjDBc_5_15                          [a, chipmunk, is, eating]   \n",
              "2  -4wsuPCjDBc_5_15               [a, chipmunk, is, eating, a, peanut]   \n",
              "3  -4wsuPCjDBc_5_15                  [a, chipmunk, is, eating, a, nut]   \n",
              "4  -4wsuPCjDBc_5_15                  [a, squirrel, is, eating, a, nut]   \n",
              "\n",
              "   Description_length  \n",
              "0                  10  \n",
              "1                   4  \n",
              "2                   6  \n",
              "3                   6  \n",
              "4                   6  "
            ]
          },
          "execution_count": 91,
          "metadata": {},
          "output_type": "execute_result"
        }
      ],
      "source": [
        "captions_df.head()"
      ]
    },
    {
      "cell_type": "code",
      "execution_count": null,
      "metadata": {
        "id": "tKeQspblt8iV"
      },
      "outputs": [],
      "source": [
        "def get_padded_data(caption_index):\n",
        "    video_name = captions_df[\"videoID\"].iloc[caption_index]\n",
        "\n",
        "    stored_features_path = os.path.dirname(os.getcwd()) + '/Data/video_frame_features/' + video_name + \".npy\"\n",
        "    features_array = np.load(stored_features_path)\n",
        "    video_features_shape = features_array.shape\n",
        "\n",
        "    input_cnn_padding_length = captions_df[\"Description_length\"].iloc[caption_index] + 1 # 1 for oov\n",
        "    input_cnn_padding_array = np.full([input_cnn_padding_length, 2560], 0)\n",
        "    input_cnn_padded_array = np.concatenate((features_array, input_cnn_padding_array))\n",
        "\n",
        "    list_first_half = video_features_shape[0] * [\"<pad>\"]\n",
        "\n",
        "    input_sequence_caption = list_first_half + [\"<bos>\"] + captions_df[\"videoDescription\"].iloc[caption_index]\n",
        "    target_sequence_caption = list_first_half + captions_df[\"videoDescription\"].iloc[caption_index] + [\"<eos>\"]\n",
        "\n",
        "    return [input_cnn_padded_array, input_sequence_caption], target_sequence_caption"
      ]
    },
    {
      "cell_type": "code",
      "execution_count": null,
      "metadata": {
        "id": "a0GGxS9at8iX"
      },
      "outputs": [],
      "source": [
        "[input_cnn, input_caption], target_caption = get_padded_data(1)"
      ]
    },
    {
      "cell_type": "code",
      "execution_count": null,
      "metadata": {
        "colab": {
          "base_uri": "https://localhost:8080/"
        },
        "id": "_WeUqWtzTZfg",
        "outputId": "8bfc4fe3-5f95-4bc4-8105-31cc77ea85ac"
      },
      "outputs": [
        {
          "name": "stdout",
          "output_type": "stream",
          "text": [
            "16\n",
            "16\n",
            "16\n"
          ]
        }
      ],
      "source": [
        "print(len(input_cnn))\n",
        "print(len(input_caption))\n",
        "print(len(target_caption))"
      ]
    },
    {
      "cell_type": "code",
      "execution_count": null,
      "metadata": {
        "colab": {
          "base_uri": "https://localhost:8080/"
        },
        "id": "JRmoAFyYQanb",
        "outputId": "53c56441-7d74-4e33-c590-24bb3946907d"
      },
      "outputs": [
        {
          "data": {
            "text/plain": [
              "(16, 2560)"
            ]
          },
          "execution_count": 95,
          "metadata": {},
          "output_type": "execute_result"
        }
      ],
      "source": [
        "input_cnn.shape"
      ]
    },
    {
      "cell_type": "code",
      "execution_count": null,
      "metadata": {
        "colab": {
          "base_uri": "https://localhost:8080/"
        },
        "id": "QkK4foYrQhFp",
        "outputId": "bdf80ab5-b2f7-4558-89d4-f88e6aac52db"
      },
      "outputs": [
        {
          "data": {
            "text/plain": [
              "['<pad>',\n",
              " '<pad>',\n",
              " '<pad>',\n",
              " '<pad>',\n",
              " '<pad>',\n",
              " '<pad>',\n",
              " '<pad>',\n",
              " '<pad>',\n",
              " '<pad>',\n",
              " '<pad>',\n",
              " '<pad>',\n",
              " 'a',\n",
              " 'chipmunk',\n",
              " 'is',\n",
              " 'eating',\n",
              " '<eos>']"
            ]
          },
          "execution_count": 96,
          "metadata": {},
          "output_type": "execute_result"
        }
      ],
      "source": [
        "target_caption"
      ]
    },
    {
      "cell_type": "code",
      "execution_count": null,
      "metadata": {
        "colab": {
          "base_uri": "https://localhost:8080/"
        },
        "id": "C8agm8Jdt8iX",
        "outputId": "7db9ded1-4bd6-4ed5-cace-bac7f33996a2"
      },
      "outputs": [
        {
          "data": {
            "text/plain": [
              "['<pad>',\n",
              " '<pad>',\n",
              " '<pad>',\n",
              " '<pad>',\n",
              " '<pad>',\n",
              " '<pad>',\n",
              " '<pad>',\n",
              " '<pad>',\n",
              " '<pad>',\n",
              " '<pad>',\n",
              " '<pad>',\n",
              " '<bos>',\n",
              " 'a',\n",
              " 'chipmunk',\n",
              " 'is',\n",
              " 'eating']"
            ]
          },
          "execution_count": 97,
          "metadata": {},
          "output_type": "execute_result"
        }
      ],
      "source": [
        "input_caption"
      ]
    },
    {
      "cell_type": "code",
      "execution_count": null,
      "metadata": {
        "id": "ov37PcArt8ic"
      },
      "outputs": [],
      "source": [
        "video_name_list = []\n",
        "number_of_frames_list = []"
      ]
    },
    {
      "cell_type": "code",
      "execution_count": null,
      "metadata": {
        "colab": {
          "base_uri": "https://localhost:8080/",
          "height": 35
        },
        "id": "FMT9Ehakt8ic",
        "outputId": "99fba7f0-3c03-4e27-dff5-c1fe4f2263ea"
      },
      "outputs": [
        {
          "data": {
            "application/vnd.google.colaboratory.intrinsic+json": {
              "type": "string"
            },
            "text/plain": [
              "'/content/drive/MyDrive/MyMaster/Final VD/Data/video_frame_features/'"
            ]
          },
          "execution_count": 99,
          "metadata": {},
          "output_type": "execute_result"
        }
      ],
      "source": [
        "video_features_path = os.path.dirname(os.getcwd()) + '/Data/video_frame_features/'\n",
        "video_features_path"
      ]
    },
    {
      "cell_type": "code",
      "execution_count": null,
      "metadata": {
        "id": "7wm1cVkvt8id"
      },
      "outputs": [],
      "source": [
        "_, _, filenames = next(os.walk(video_features_path))"
      ]
    },
    {
      "cell_type": "code",
      "execution_count": null,
      "metadata": {
        "colab": {
          "base_uri": "https://localhost:8080/"
        },
        "id": "Xzt7N8UdaVtZ",
        "outputId": "df1427ea-f45d-4749-badd-f36716aa44ba"
      },
      "outputs": [
        {
          "data": {
            "text/plain": [
              "['-_hbPLsZvvo_19_26.npy', 'JXSkYkiKO0I_42_46.npy']"
            ]
          },
          "execution_count": 101,
          "metadata": {},
          "output_type": "execute_result"
        }
      ],
      "source": [
        "filenames[:2]"
      ]
    },
    {
      "cell_type": "code",
      "execution_count": null,
      "metadata": {
        "id": "y7J0nFwYt8id"
      },
      "outputs": [],
      "source": [
        "# # after the first time, it may be faster to load the computed dict\n",
        "# for filename in filenames:\n",
        "#     np_path = video_features_path + filename\n",
        "#     video_name_list.append(filename[:-4])\n",
        "#     number_of_frames = np.load(np_path).shape[0]\n",
        "#     number_of_frames_list.append(number_of_frames)\n",
        "\n",
        "# video_frames_dict = dict(zip(video_name_list, number_of_frames_list))"
      ]
    },
    {
      "cell_type": "code",
      "execution_count": null,
      "metadata": {
        "id": "XD_IY9ieasrK"
      },
      "outputs": [],
      "source": [
        "import pickle\n",
        "# with open('video_frames_dict.pickle', 'wb') as handle:\n",
        "#     pickle.dump(video_frames_dict, handle, protocol=pickle.HIGHEST_PROTOCOL)"
      ]
    },
    {
      "cell_type": "code",
      "execution_count": null,
      "metadata": {
        "id": "Ty27Hpvit8ie"
      },
      "outputs": [],
      "source": [
        "with open(os.path.dirname(os.getcwd()) + '/Data/video_frames_dict.pickle', \"rb\") as handle:\n",
        "    video_frames_dict = pickle.load(handle)"
      ]
    },
    {
      "cell_type": "code",
      "execution_count": null,
      "metadata": {
        "id": "IzpOr7cit8ie"
      },
      "outputs": [],
      "source": [
        "captions_df[\"Number_of_frames\"] = captions_df[\"videoID\"].map(video_frames_dict)"
      ]
    },
    {
      "cell_type": "code",
      "execution_count": null,
      "metadata": {
        "colab": {
          "base_uri": "https://localhost:8080/",
          "height": 206
        },
        "id": "Aenmsr4ndGcK",
        "outputId": "6de88471-fc09-435e-9008-9058e84b6534"
      },
      "outputs": [
        {
          "data": {
            "text/html": [
              "\n",
              "  <div id=\"df-1c1edfa4-0e70-4c86-9047-7dfd2c2456a9\">\n",
              "    <div class=\"colab-df-container\">\n",
              "      <div>\n",
              "<style scoped>\n",
              "    .dataframe tbody tr th:only-of-type {\n",
              "        vertical-align: middle;\n",
              "    }\n",
              "\n",
              "    .dataframe tbody tr th {\n",
              "        vertical-align: top;\n",
              "    }\n",
              "\n",
              "    .dataframe thead th {\n",
              "        text-align: right;\n",
              "    }\n",
              "</style>\n",
              "<table border=\"1\" class=\"dataframe\">\n",
              "  <thead>\n",
              "    <tr style=\"text-align: right;\">\n",
              "      <th></th>\n",
              "      <th>videoID</th>\n",
              "      <th>videoDescription</th>\n",
              "      <th>Description_length</th>\n",
              "      <th>Number_of_frames</th>\n",
              "    </tr>\n",
              "  </thead>\n",
              "  <tbody>\n",
              "    <tr>\n",
              "      <th>0</th>\n",
              "      <td>-4wsuPCjDBc_5_15</td>\n",
              "      <td>[a, squirrel, is, eating, a, peanut, in, it, s...</td>\n",
              "      <td>10</td>\n",
              "      <td>11</td>\n",
              "    </tr>\n",
              "    <tr>\n",
              "      <th>1</th>\n",
              "      <td>-4wsuPCjDBc_5_15</td>\n",
              "      <td>[a, chipmunk, is, eating]</td>\n",
              "      <td>4</td>\n",
              "      <td>11</td>\n",
              "    </tr>\n",
              "    <tr>\n",
              "      <th>2</th>\n",
              "      <td>-4wsuPCjDBc_5_15</td>\n",
              "      <td>[a, chipmunk, is, eating, a, peanut]</td>\n",
              "      <td>6</td>\n",
              "      <td>11</td>\n",
              "    </tr>\n",
              "    <tr>\n",
              "      <th>3</th>\n",
              "      <td>-4wsuPCjDBc_5_15</td>\n",
              "      <td>[a, chipmunk, is, eating, a, nut]</td>\n",
              "      <td>6</td>\n",
              "      <td>11</td>\n",
              "    </tr>\n",
              "    <tr>\n",
              "      <th>4</th>\n",
              "      <td>-4wsuPCjDBc_5_15</td>\n",
              "      <td>[a, squirrel, is, eating, a, nut]</td>\n",
              "      <td>6</td>\n",
              "      <td>11</td>\n",
              "    </tr>\n",
              "  </tbody>\n",
              "</table>\n",
              "</div>\n",
              "      <button class=\"colab-df-convert\" onclick=\"convertToInteractive('df-1c1edfa4-0e70-4c86-9047-7dfd2c2456a9')\"\n",
              "              title=\"Convert this dataframe to an interactive table.\"\n",
              "              style=\"display:none;\">\n",
              "        \n",
              "  <svg xmlns=\"http://www.w3.org/2000/svg\" height=\"24px\"viewBox=\"0 0 24 24\"\n",
              "       width=\"24px\">\n",
              "    <path d=\"M0 0h24v24H0V0z\" fill=\"none\"/>\n",
              "    <path d=\"M18.56 5.44l.94 2.06.94-2.06 2.06-.94-2.06-.94-.94-2.06-.94 2.06-2.06.94zm-11 1L8.5 8.5l.94-2.06 2.06-.94-2.06-.94L8.5 2.5l-.94 2.06-2.06.94zm10 10l.94 2.06.94-2.06 2.06-.94-2.06-.94-.94-2.06-.94 2.06-2.06.94z\"/><path d=\"M17.41 7.96l-1.37-1.37c-.4-.4-.92-.59-1.43-.59-.52 0-1.04.2-1.43.59L10.3 9.45l-7.72 7.72c-.78.78-.78 2.05 0 2.83L4 21.41c.39.39.9.59 1.41.59.51 0 1.02-.2 1.41-.59l7.78-7.78 2.81-2.81c.8-.78.8-2.07 0-2.86zM5.41 20L4 18.59l7.72-7.72 1.47 1.35L5.41 20z\"/>\n",
              "  </svg>\n",
              "      </button>\n",
              "      \n",
              "  <style>\n",
              "    .colab-df-container {\n",
              "      display:flex;\n",
              "      flex-wrap:wrap;\n",
              "      gap: 12px;\n",
              "    }\n",
              "\n",
              "    .colab-df-convert {\n",
              "      background-color: #E8F0FE;\n",
              "      border: none;\n",
              "      border-radius: 50%;\n",
              "      cursor: pointer;\n",
              "      display: none;\n",
              "      fill: #1967D2;\n",
              "      height: 32px;\n",
              "      padding: 0 0 0 0;\n",
              "      width: 32px;\n",
              "    }\n",
              "\n",
              "    .colab-df-convert:hover {\n",
              "      background-color: #E2EBFA;\n",
              "      box-shadow: 0px 1px 2px rgba(60, 64, 67, 0.3), 0px 1px 3px 1px rgba(60, 64, 67, 0.15);\n",
              "      fill: #174EA6;\n",
              "    }\n",
              "\n",
              "    [theme=dark] .colab-df-convert {\n",
              "      background-color: #3B4455;\n",
              "      fill: #D2E3FC;\n",
              "    }\n",
              "\n",
              "    [theme=dark] .colab-df-convert:hover {\n",
              "      background-color: #434B5C;\n",
              "      box-shadow: 0px 1px 3px 1px rgba(0, 0, 0, 0.15);\n",
              "      filter: drop-shadow(0px 1px 2px rgba(0, 0, 0, 0.3));\n",
              "      fill: #FFFFFF;\n",
              "    }\n",
              "  </style>\n",
              "\n",
              "      <script>\n",
              "        const buttonEl =\n",
              "          document.querySelector('#df-1c1edfa4-0e70-4c86-9047-7dfd2c2456a9 button.colab-df-convert');\n",
              "        buttonEl.style.display =\n",
              "          google.colab.kernel.accessAllowed ? 'block' : 'none';\n",
              "\n",
              "        async function convertToInteractive(key) {\n",
              "          const element = document.querySelector('#df-1c1edfa4-0e70-4c86-9047-7dfd2c2456a9');\n",
              "          const dataTable =\n",
              "            await google.colab.kernel.invokeFunction('convertToInteractive',\n",
              "                                                     [key], {});\n",
              "          if (!dataTable) return;\n",
              "\n",
              "          const docLinkHtml = 'Like what you see? Visit the ' +\n",
              "            '<a target=\"_blank\" href=https://colab.research.google.com/notebooks/data_table.ipynb>data table notebook</a>'\n",
              "            + ' to learn more about interactive tables.';\n",
              "          element.innerHTML = '';\n",
              "          dataTable['output_type'] = 'display_data';\n",
              "          await google.colab.output.renderOutput(dataTable, element);\n",
              "          const docLink = document.createElement('div');\n",
              "          docLink.innerHTML = docLinkHtml;\n",
              "          element.appendChild(docLink);\n",
              "        }\n",
              "      </script>\n",
              "    </div>\n",
              "  </div>\n",
              "  "
            ],
            "text/plain": [
              "            videoID                                   videoDescription  \\\n",
              "0  -4wsuPCjDBc_5_15  [a, squirrel, is, eating, a, peanut, in, it, s...   \n",
              "1  -4wsuPCjDBc_5_15                          [a, chipmunk, is, eating]   \n",
              "2  -4wsuPCjDBc_5_15               [a, chipmunk, is, eating, a, peanut]   \n",
              "3  -4wsuPCjDBc_5_15                  [a, chipmunk, is, eating, a, nut]   \n",
              "4  -4wsuPCjDBc_5_15                  [a, squirrel, is, eating, a, nut]   \n",
              "\n",
              "   Description_length  Number_of_frames  \n",
              "0                  10                11  \n",
              "1                   4                11  \n",
              "2                   6                11  \n",
              "3                   6                11  \n",
              "4                   6                11  "
            ]
          },
          "execution_count": 106,
          "metadata": {},
          "output_type": "execute_result"
        }
      ],
      "source": [
        "captions_df.head()"
      ]
    },
    {
      "cell_type": "code",
      "execution_count": null,
      "metadata": {
        "id": "h9Shmp6fd-yo"
      },
      "outputs": [],
      "source": [
        "def padding_part_of_caption_sequence(video_length):\n",
        "    return video_length * [\"<pad>\"]\n",
        "\n",
        "def append_bos_token(sequence_list):\n",
        "    return sequence_list + [\"<bos>\"]\n",
        "\n",
        "def append_eos_token(sequence_list):\n",
        "    return sequence_list + [\"<eos>\"]\n"
      ]
    },
    {
      "cell_type": "code",
      "execution_count": null,
      "metadata": {
        "id": "RDiMag23t8if"
      },
      "outputs": [],
      "source": [
        "# create padded caption to use as input, with <bos> token\n",
        "captions_df[\"input_sequence_caption\"] = captions_df[\"Number_of_frames\"]\\\n",
        "                                        .apply(padding_part_of_caption_sequence) \\\n",
        "                                        .apply(append_bos_token) + captions_df[\"videoDescription\"]"
      ]
    },
    {
      "cell_type": "code",
      "execution_count": null,
      "metadata": {
        "id": "vVGXD1Fit8ig"
      },
      "outputs": [],
      "source": [
        "# create padded caption to use as target, with <eos> token\n",
        "captions_df[\"target_sequence_caption\"] = captions_df[\"Number_of_frames\"]\\\n",
        "                                        .apply(padding_part_of_caption_sequence) + captions_df[\"videoDescription\"]\\\n",
        "                                        .apply(append_eos_token)"
      ]
    },
    {
      "cell_type": "code",
      "execution_count": null,
      "metadata": {
        "id": "XHih2Kyef1Bs"
      },
      "outputs": [],
      "source": [
        "captions_df.head()"
      ]
    },
    {
      "cell_type": "code",
      "execution_count": null,
      "metadata": {
        "id": "In8meDLrt8ig"
      },
      "outputs": [],
      "source": [
        "# convert caption sequences from list to numpy arrays\n",
        "captions_df[\"input_sequence_caption\"] = captions_df[\"input_sequence_caption\"].apply(lambda x: np.array(x))\n",
        "captions_df[\"target_sequence_caption\"] = captions_df[\"target_sequence_caption\"].apply(lambda x: np.array(x))"
      ]
    },
    {
      "cell_type": "markdown",
      "metadata": {
        "id": "CA0q6CGft8ih"
      },
      "source": [
        "## Create data loading pipeline"
      ]
    },
    {
      "cell_type": "code",
      "execution_count": null,
      "metadata": {
        "id": "XOkTt-e5t8ik"
      },
      "outputs": [],
      "source": [
        "# training-validation split is about 80-20\n",
        "train_size = 64660"
      ]
    },
    {
      "cell_type": "code",
      "execution_count": null,
      "metadata": {
        "colab": {
          "background_save": true
        },
        "id": "yVhl6T1it8ik"
      },
      "outputs": [],
      "source": [
        "# features = ['input_sequence_caption', 'videoID', 'target_sequence_caption', 'Description_length']\n",
        "training_dataset = tf.data.Dataset.from_tensor_slices(\n",
        "    (\n",
        "        tf.ragged.constant(\n",
        "            captions_df[\"input_sequence_caption\"].iloc[:train_size].values\n",
        "        ),\n",
        "        tf.ragged.constant(\n",
        "            captions_df[\"target_sequence_caption\"].iloc[:train_size].values\n",
        "        ),\n",
        "        tf.ragged.constant(captions_df[\"videoID\"].iloc[:train_size].values),\n",
        "        tf.ragged.constant(captions_df[\"Description_length\"].iloc[:train_size].values)\n",
        "    )\n",
        ")"
      ]
    },
    {
      "cell_type": "code",
      "execution_count": null,
      "metadata": {
        "colab": {
          "background_save": true
        },
        "id": "QfI5_j96jIOu"
      },
      "outputs": [],
      "source": [
        "# word tokenization\n",
        "subsample_rate = 1\n",
        "\n",
        "validation_dataset = tf.data.Dataset.from_tensor_slices(\n",
        "    (\n",
        "        tf.ragged.constant(\n",
        "            captions_df[\"input_sequence_caption\"]\n",
        "            .iloc[train_size::subsample_rate]\n",
        "            .values\n",
        "        ),\n",
        "        tf.ragged.constant(\n",
        "            captions_df[\"target_sequence_caption\"]\n",
        "            .iloc[train_size::subsample_rate]\n",
        "            .values\n",
        "        ),\n",
        "        tf.ragged.constant(\n",
        "            captions_df[\"videoID\"].iloc[train_size::subsample_rate].values\n",
        "        ),\n",
        "        tf.ragged.constant(\n",
        "            captions_df[\"Description_length\"].iloc[train_size::subsample_rate].values\n",
        "        ),\n",
        "    )\n",
        ")"
      ]
    },
    {
      "cell_type": "code",
      "execution_count": null,
      "metadata": {
        "colab": {
          "background_save": true
        },
        "id": "j9IuzH5St8ik",
        "outputId": "e80e9e49-fed8-4e8d-a1fe-538392c12ab4"
      },
      "outputs": [
        {
          "data": {
            "text/plain": [
              "count    60109.000000\n",
              "mean        18.859372\n",
              "std          6.972307\n",
              "min          5.000000\n",
              "25%         14.000000\n",
              "50%         17.000000\n",
              "75%         21.000000\n",
              "max         76.000000\n",
              "Name: input_sequence_caption, dtype: float64"
            ]
          },
          "execution_count": 115,
          "metadata": {},
          "output_type": "execute_result"
        }
      ],
      "source": [
        "captions_df[\"input_sequence_caption\"].map(len).describe()"
      ]
    },
    {
      "cell_type": "code",
      "execution_count": null,
      "metadata": {
        "colab": {
          "background_save": true
        },
        "id": "wKnz1-J1t8im"
      },
      "outputs": [],
      "source": [
        "# load video features array and pad it, return padded tensor\n",
        "def get_padded_input_cnn(video_name_tensor, caption_length_tensor):\n",
        "    stored_features_path = (os.path.dirname(os.getcwd()) + '/Data/video_frame_features/'\n",
        "                           + video_name_tensor.numpy().decode(\"ascii\") + \".npy\")\n",
        "    features_array = np.load(stored_features_path)\n",
        "\n",
        "    input_cnn_padding_length = caption_length_tensor + 1\n",
        "    input_cnn_padding_array = np.full([input_cnn_padding_length, 2560], 0)\n",
        "    input_cnn_padded_array = np.concatenate((features_array, input_cnn_padding_array))\n",
        "    return tf.constant(input_cnn_padded_array)"
      ]
    },
    {
      "cell_type": "code",
      "execution_count": null,
      "metadata": {
        "colab": {
          "background_save": true
        },
        "id": "CNLw6rzqt8in",
        "outputId": "01eb15dc-7d64-4ed8-aa71-1f780dd3dbbd"
      },
      "outputs": [
        {
          "name": "stdout",
          "output_type": "stream",
          "text": [
            "tf.Tensor(\n",
            "[[-0.11117151  0.06840475  0.17291933 ... -0.10178307 -0.17902158\n",
            "   0.02944427]\n",
            " [-0.18497883 -0.01959134  0.39816877 ... -0.13423958 -0.06738208\n",
            "  -0.02982993]\n",
            " [-0.07405493 -0.0543845   0.40450001 ... -0.11281626 -0.08660042\n",
            "  -0.04816832]\n",
            " ...\n",
            " [ 0.          0.          0.         ...  0.          0.\n",
            "   0.        ]\n",
            " [ 0.          0.          0.         ...  0.          0.\n",
            "   0.        ]\n",
            " [ 0.          0.          0.         ...  0.          0.\n",
            "   0.        ]], shape=(22, 2560), dtype=float64)\n"
          ]
        }
      ],
      "source": [
        "for input_seq, target_seq, video_name, caption_length in training_dataset.take(1):\n",
        "    print(get_padded_input_cnn(video_name, caption_length))"
      ]
    },
    {
      "cell_type": "code",
      "execution_count": null,
      "metadata": {
        "colab": {
          "background_save": true
        },
        "id": "HzIJOhVut8io"
      },
      "outputs": [],
      "source": [
        "def get_padded_input_cnn_batch(input_seq_batch, target_seq_batch, video_name_batch_tensor):\n",
        "    max_length = input_seq_batch.shape[1]\n",
        "    batch_size = input_seq_batch.shape[0]\n",
        "    input_cnn_padded_batch_array = np.empty((batch_size, max_length, 2560))\n",
        "\n",
        "    for ind, video_name_tensor in enumerate(video_name_batch_tensor):\n",
        "        # get_padded_input_cnn(video_name_tensor, caption_length_tensor)\n",
        "        stored_features_path = stored_features_path = (os.path.dirname(os.getcwd()) + '/Data/video_frame_features/'\n",
        "                               + video_name_tensor.numpy().decode(\"ascii\") + \".npy\")\n",
        "        features_array = np.load(stored_features_path)\n",
        "\n",
        "        needed_padding_length = max_length - features_array.shape[0]\n",
        "        # input_cnn_padding_length = caption_length_tensor + 1\n",
        "        input_cnn_padding_array = np.full([needed_padding_length, 2560], 0)\n",
        "        input_cnn_padded_array = np.concatenate((features_array, input_cnn_padding_array))\n",
        "        input_cnn_padded_batch_array[ind] = input_cnn_padded_array\n",
        "\n",
        "    return tf.constant(input_cnn_padded_batch_array)"
      ]
    },
    {
      "cell_type": "code",
      "execution_count": null,
      "metadata": {
        "colab": {
          "background_save": true
        },
        "collapsed": true,
        "id": "DRKM6aqDt8io",
        "outputId": "e1dda20c-9b14-4e14-bb3d-72a226092a01"
      },
      "outputs": [
        {
          "name": "stdout",
          "output_type": "stream",
          "text": [
            "tf.Tensor(\n",
            "[[ 0  0  0  0  0  0  0  0  0  0  0  1  3  4 15  5  6 16]\n",
            " [ 0  0  0  0  0  0  0  0  0  0  0  1 25  4  5  6  0  0]], shape=(2, 18), dtype=int64) tf.Tensor(\n",
            "[[ 0  0  0  0  0  0  0  0  0  0  0  3  4 15  5  6 16  2]\n",
            " [ 0  0  0  0  0  0  0  0  0  0  0 25  4  5  6  2  0  0]], shape=(2, 18), dtype=int64) tf.Tensor([b'-4wsuPCjDBc_5_15' b'-4wsuPCjDBc_5_15'], shape=(2,), dtype=string) tf.Tensor([6 4], shape=(2,), dtype=int64) tf.Tensor(\n",
            "[[[-0.11117151  0.06840475  0.17291933 ... -0.10178307 -0.17902158\n",
            "    0.02944427]\n",
            "  [-0.18497883 -0.01959134  0.39816877 ... -0.13423958 -0.06738208\n",
            "   -0.02982993]\n",
            "  [-0.07405493 -0.0543845   0.40450001 ... -0.11281626 -0.08660042\n",
            "   -0.04816832]\n",
            "  ...\n",
            "  [ 0.          0.          0.         ...  0.          0.\n",
            "    0.        ]\n",
            "  [ 0.          0.          0.         ...  0.          0.\n",
            "    0.        ]\n",
            "  [ 0.          0.          0.         ...  0.          0.\n",
            "    0.        ]]\n",
            "\n",
            " [[-0.11117151  0.06840475  0.17291933 ... -0.10178307 -0.17902158\n",
            "    0.02944427]\n",
            "  [-0.18497883 -0.01959134  0.39816877 ... -0.13423958 -0.06738208\n",
            "   -0.02982993]\n",
            "  [-0.07405493 -0.0543845   0.40450001 ... -0.11281626 -0.08660042\n",
            "   -0.04816832]\n",
            "  ...\n",
            "  [ 0.          0.          0.         ...  0.          0.\n",
            "    0.        ]\n",
            "  [ 0.          0.          0.         ...  0.          0.\n",
            "    0.        ]\n",
            "  [ 0.          0.          0.         ...  0.          0.\n",
            "    0.        ]]], shape=(2, 18, 2560), dtype=float64)\n"
          ]
        }
      ],
      "source": [
        "for input_seq, target_seq, video_name, caption_length in (\n",
        "    training_dataset.shuffle(buffer_size=200)\n",
        "    .map(\n",
        "        lambda input_seq, target_seq, video_name, caption_length: [\n",
        "            table.lookup(input_seq),\n",
        "            table.lookup(target_seq),\n",
        "            video_name,\n",
        "            caption_length,\n",
        "        ]\n",
        "    )\n",
        "    .padded_batch(2) # make batches with batch_size 2 with padding_value 0\n",
        "    .prefetch(1)\n",
        "    .take(1)\n",
        "):\n",
        "    print(\n",
        "        input_seq,\n",
        "        target_seq,\n",
        "        video_name,\n",
        "        caption_length,\n",
        "        get_padded_input_cnn_batch(input_seq, target_seq, video_name),\n",
        "    )"
      ]
    },
    {
      "cell_type": "code",
      "execution_count": null,
      "metadata": {
        "colab": {
          "background_save": true
        },
        "id": "7gXA6Aiot8io"
      },
      "outputs": [],
      "source": [
        "def element_length_fn(input_seq, target_seq, video_name, caption_length):\n",
        "    return tf.shape(input_seq)[0]"
      ]
    },
    {
      "cell_type": "code",
      "execution_count": null,
      "metadata": {
        "colab": {
          "background_save": true
        },
        "id": "8lw4jpKvt8ip"
      },
      "outputs": [],
      "source": [
        "shuffle_buffer_size = train_size\n",
        "batch_size = 24"
      ]
    },
    {
      "cell_type": "code",
      "execution_count": null,
      "metadata": {
        "colab": {
          "background_save": true
        },
        "id": "BrpiFwJ9t8ip",
        "outputId": "d55a0c33-5f19-43e3-da63-b6f5002d33ee"
      },
      "outputs": [
        {
          "name": "stderr",
          "output_type": "stream",
          "text": [
            "WARNING:tensorflow:From <ipython-input-122-a1344b8b7208>:13: bucket_by_sequence_length (from tensorflow.python.data.experimental.ops.grouping) is deprecated and will be removed in a future version.\n",
            "Instructions for updating:\n",
            "Use `tf.data.Dataset.bucket_by_sequence_length(...)`.\n"
          ]
        }
      ],
      "source": [
        "# word tokenization\n",
        "training_dataset = training_dataset.shuffle(shuffle_buffer_size)\n",
        "training_dataset = training_dataset.map(\n",
        "        lambda input_seq, target_seq, video_name, caption_length: [\n",
        "            table.lookup(input_seq),\n",
        "            table.lookup(target_seq),\n",
        "            video_name,\n",
        "            caption_length,\n",
        "        ]\n",
        "    )\n",
        "\n",
        "training_dataset = training_dataset.apply(\n",
        "    tf.data.experimental.bucket_by_sequence_length(\n",
        "        element_length_func=element_length_fn,\n",
        "        bucket_batch_sizes=[\n",
        "            batch_size,\n",
        "            batch_size,\n",
        "            batch_size,\n",
        "            batch_size,\n",
        "            batch_size,\n",
        "            batch_size,\n",
        "            batch_size,\n",
        "        ],\n",
        "        bucket_boundaries=[11, 15, 19, 25, 35, 50],\n",
        "    )\n",
        ")\n",
        "# ValueError: if len(bucket_batch_sizes) != len(bucket_boundaries) + 1.\n",
        "\n",
        "training_dataset = training_dataset.map(\n",
        "    lambda input_seq_batch, target_seq_batch, video_name_batch, caption_length_batch: [\n",
        "        (\n",
        "            (\n",
        "                tf.py_function(\n",
        "                    func=get_padded_input_cnn_batch,\n",
        "                    inp=[input_seq_batch, target_seq_batch, video_name_batch],\n",
        "                    Tout=tf.float64,\n",
        "                )\n",
        "            ),\n",
        "            input_seq_batch,\n",
        "        ),\n",
        "        target_seq_batch,\n",
        "    ]\n",
        ")\n",
        "\n",
        "training_dataset = training_dataset.prefetch(1)"
      ]
    },
    {
      "cell_type": "code",
      "execution_count": null,
      "metadata": {
        "id": "EleaEJ4buDUF"
      },
      "outputs": [],
      "source": [
        "for (input_cnn_batch, input_seq), target_seq in training_dataset.take(2):\n",
        "    print(input_cnn_batch.shape)\n",
        "    print(input_seq.shape)\n",
        "    print(target_seq.shape)"
      ]
    },
    {
      "cell_type": "code",
      "execution_count": null,
      "metadata": {
        "id": "OSjXu_vE5BZd"
      },
      "outputs": [],
      "source": [
        "# cntr = 0\n",
        "# for (input_cnn_batch, input_seq), target_seq in training_dataset:\n",
        "#     cntr += 1\n",
        "# print(cntr) # 2698"
      ]
    },
    {
      "cell_type": "code",
      "execution_count": null,
      "metadata": {
        "id": "QFJ299sSt8iq"
      },
      "outputs": [],
      "source": [
        "for (input_cnn_padded_tensor, input_seq), target_seq in training_dataset.take(1):\n",
        "    print(input_cnn_padded_tensor, input_seq, target_seq)"
      ]
    },
    {
      "cell_type": "code",
      "execution_count": null,
      "metadata": {
        "id": "a3X3v1AtG4ed"
      },
      "outputs": [],
      "source": [
        "2698 * 24 - 64660"
      ]
    },
    {
      "cell_type": "code",
      "execution_count": null,
      "metadata": {
        "id": "utFOTjbqezM8"
      },
      "outputs": [],
      "source": [
        "# word tokenization\n",
        "\n",
        "batch_size_val = 24\n",
        "\n",
        "validation_dataset = validation_dataset.map(\n",
        "    lambda input_seq, target_seq, video_name, caption_length: [\n",
        "        table.lookup(input_seq),\n",
        "        table.lookup(target_seq),\n",
        "        video_name,\n",
        "        caption_length\n",
        "    ]\n",
        ")\n",
        "\n",
        "validation_dataset = validation_dataset.apply(\n",
        "    tf.data.experimental.bucket_by_sequence_length(\n",
        "        element_length_func=element_length_fn,\n",
        "        bucket_batch_sizes=[\n",
        "            batch_size_val,\n",
        "            batch_size_val,\n",
        "            batch_size_val,\n",
        "            batch_size_val,\n",
        "            batch_size_val,\n",
        "            batch_size_val,\n",
        "            batch_size_val,\n",
        "        ],\n",
        "        bucket_boundaries=[11, 15, 19, 25, 35, 50],\n",
        "    )\n",
        ")\n",
        "validation_dataset = validation_dataset.map(\n",
        "    lambda input_seq_batch, target_seq_batch, video_name_batch, caption_length_batch: [\n",
        "        (\n",
        "            (\n",
        "                tf.py_function(\n",
        "                    func=get_padded_input_cnn_batch,\n",
        "                    inp=[input_seq_batch, target_seq_batch, video_name_batch],\n",
        "                    Tout=tf.float64,\n",
        "                )\n",
        "            ),\n",
        "            input_seq_batch,\n",
        "        ),\n",
        "        target_seq_batch,\n",
        "    ]\n",
        ")\n",
        "validation_dataset = validation_dataset.prefetch(1)"
      ]
    },
    {
      "cell_type": "code",
      "execution_count": null,
      "metadata": {
        "collapsed": true,
        "id": "aaxN2hgrezM9"
      },
      "outputs": [],
      "source": [
        "for (input_cnn_padded_tensor, input_seq), target_seq in validation_dataset.take(1):\n",
        "    print(input_cnn_padded_tensor, input_seq, target_seq)"
      ]
    },
    {
      "cell_type": "markdown",
      "metadata": {
        "id": "3gWNfg9Ot8is"
      },
      "source": [
        "# Create the model"
      ]
    },
    {
      "cell_type": "code",
      "execution_count": null,
      "metadata": {
        "id": "FfOehImwt8it"
      },
      "outputs": [],
      "source": [
        "lstm_size = 1000\n",
        "cnn_embed_size = 500"
      ]
    },
    {
      "cell_type": "code",
      "execution_count": null,
      "metadata": {
        "id": "asoHY3dot8it"
      },
      "outputs": [],
      "source": [
        "input_cnn = keras.layers.Input(shape=[None, 2560], dtype=tf.float64, name=\"input_cnn\")\n",
        "input_caption = keras.layers.Input(shape=[None], dtype=tf.int64, name=\"teacher_forcing\")\n",
        "\n",
        "cnn_embedding = keras.layers.TimeDistributed(\n",
        "                keras.layers.Dense(cnn_embed_size, activation=None), name=\"cnn_embedding\")(input_cnn)\n",
        "# cnn_embedding shape is ([None, None, 500])\n",
        "\n",
        "lstm_1 = keras.layers.LSTM(lstm_size, return_sequences=True, name=\"lstm_1\")\n",
        "lstm_1_outputs = lstm_1(cnn_embedding)\n",
        "\n",
        "mask = keras.layers.Lambda(lambda inputs: K.not_equal(inputs, 0), name=\"mask\")(input_caption)\n",
        "\n",
        "caption_embedding = embedding_layer(input_caption)\n",
        "concat = keras.layers.concatenate([lstm_1_outputs, caption_embedding])\n",
        "\n",
        "lstm_2_outputs = keras.layers.LSTM(lstm_size, return_sequences=True, name=\"lstm_2\")\\\n",
        "                 (concat, mask=mask) # return_state = True\n",
        "\n",
        "output = keras.layers.TimeDistributed(\n",
        "         keras.layers.Dense(vocab_size + num_oov_buckets, activation=\"softmax\"), name=\"output\")\\\n",
        "         (lstm_2_outputs, mask=mask)\n",
        "\n",
        "model = keras.Model(inputs=[input_cnn, input_caption], outputs=[output])"
      ]
    },
    {
      "cell_type": "code",
      "execution_count": null,
      "metadata": {
        "id": "OgOqOgB5t8iw"
      },
      "outputs": [],
      "source": [
        "model.summary()"
      ]
    },
    {
      "cell_type": "code",
      "execution_count": null,
      "metadata": {
        "id": "osmvzeBaezM_"
      },
      "outputs": [],
      "source": [
        "tf.keras.utils.plot_model(model)"
      ]
    },
    {
      "cell_type": "markdown",
      "metadata": {
        "id": "MaQelPXUt8it"
      },
      "source": [
        "# Train the model"
      ]
    },
    {
      "cell_type": "code",
      "execution_count": null,
      "metadata": {
        "id": "qh5sExeLt8it"
      },
      "outputs": [],
      "source": [
        "# optimizer = keras.optimizers.Adam()\n",
        "# model.compile(loss=\"sparse_categorical_crossentropy\", metrics = ['accuracy'], optimizer=optimizer)"
      ]
    },
    {
      "cell_type": "code",
      "execution_count": null,
      "metadata": {
        "id": "77us5JwVt8iu"
      },
      "outputs": [],
      "source": [
        "# checkpoint_cb = keras.callbacks.ModelCheckpoint(\"my_model.h5\", save_best_only=True)\n",
        "# # early_stopping_cb = keras.callbacks.EarlyStopping(patience=10, restore_best_weights=True)"
      ]
    },
    {
      "cell_type": "code",
      "execution_count": null,
      "metadata": {
        "id": "L6cveIo0t8iu"
      },
      "outputs": [],
      "source": [
        "# history = model.fit(training_dataset, epochs=1,\n",
        "#                     callbacks = [checkpoint_cb], validation_data = validation_dataset)"
      ]
    },
    {
      "cell_type": "code",
      "execution_count": null,
      "metadata": {
        "id": "z2hgcjChezNC"
      },
      "outputs": [],
      "source": [
        "# model.evaluate(validation_dataset)"
      ]
    },
    {
      "cell_type": "code",
      "execution_count": null,
      "metadata": {
        "id": "WZxl7sXkV5Ca"
      },
      "outputs": [],
      "source": [
        "# 2698 * 24 - 64660"
      ]
    },
    {
      "cell_type": "code",
      "execution_count": null,
      "metadata": {
        "id": "vdEom4ctBmNu"
      },
      "outputs": [],
      "source": [
        "# Stop"
      ]
    },
    {
      "cell_type": "code",
      "execution_count": null,
      "metadata": {
        "id": "rZ0JUXTdT2BU"
      },
      "outputs": [],
      "source": [
        "# model.save_weights(os.path.dirname(os.getcwd()) + '/saved_model/weights')"
      ]
    },
    {
      "cell_type": "code",
      "execution_count": null,
      "metadata": {
        "id": "OVcgjVd7t8iv"
      },
      "outputs": [],
      "source": [
        "# model.save(os.path.dirname(os.getcwd()) + '/saved_model/whole_model')"
      ]
    },
    {
      "cell_type": "code",
      "execution_count": null,
      "metadata": {
        "id": "bF70AiR5t8iv"
      },
      "outputs": [],
      "source": [
        "# bucketize batches, so that batches have inputs of similar length, so that there's less less padding"
      ]
    },
    {
      "cell_type": "code",
      "execution_count": null,
      "metadata": {
        "id": "f06w4Jbbt8iw"
      },
      "outputs": [],
      "source": [
        "# history.history[\"loss\"]"
      ]
    },
    {
      "cell_type": "code",
      "execution_count": null,
      "metadata": {
        "id": "2H_VWVFMTwjE"
      },
      "outputs": [],
      "source": [
        "model = keras.models.load_model('/content/drive/MyDrive/Final VD/Video_Captioning/saved_model/whole_model')"
      ]
    },
    {
      "cell_type": "code",
      "execution_count": null,
      "metadata": {
        "id": "buX2jhXZst6y"
      },
      "outputs": [],
      "source": [
        "# model.evaluate(validation_dataset)"
      ]
    },
    {
      "cell_type": "markdown",
      "metadata": {
        "id": "ydnF7Sh3t8ix"
      },
      "source": [
        "# Inference"
      ]
    },
    {
      "cell_type": "code",
      "execution_count": null,
      "metadata": {
        "id": "j7gUdO-9t8iy"
      },
      "outputs": [],
      "source": [
        "captions_df[\n",
        "    [\n",
        "        \"input_sequence_caption\",\n",
        "        \"target_sequence_caption\",\n",
        "        \"videoID\",\n",
        "        \"Description_length\",\n",
        "    ]\n",
        "].iloc[train_size + 700]"
      ]
    },
    {
      "cell_type": "code",
      "execution_count": null,
      "metadata": {
        "id": "OAB0CfUit8iy"
      },
      "outputs": [],
      "source": [
        "captions_df[\"input_sequence_caption\"].iloc[train_size + 700]"
      ]
    },
    {
      "cell_type": "code",
      "execution_count": null,
      "metadata": {
        "id": "sI2U4aeTt8iz"
      },
      "outputs": [],
      "source": [
        "table.lookup(tf.constant(captions_df[\"target_sequence_caption\"].iloc[train_size + 700]))"
      ]
    },
    {
      "cell_type": "code",
      "execution_count": null,
      "metadata": {
        "id": "VHBl4jgtt8iz"
      },
      "outputs": [],
      "source": [
        "captions_df[\"videoID\"].iloc[train_size + 700]"
      ]
    },
    {
      "cell_type": "code",
      "execution_count": null,
      "metadata": {
        "id": "k2IqsiD2t8i0"
      },
      "outputs": [],
      "source": [
        "captions_df[\"Description_length\"].iloc[train_size + 700]"
      ]
    },
    {
      "cell_type": "code",
      "execution_count": null,
      "metadata": {
        "id": "LgLFtexLt8i1"
      },
      "outputs": [],
      "source": [
        "sample_cnn_input = get_padded_input_cnn(\n",
        "    tf.constant(captions_df[\"videoID\"].iloc[train_size + 700]),\n",
        "    tf.constant((captions_df[\"Description_length\"].iloc[train_size + 700])),\n",
        ")\n",
        "sample_cnn_input"
      ]
    },
    {
      "cell_type": "code",
      "execution_count": null,
      "metadata": {
        "id": "hsiRusnLt8i2"
      },
      "outputs": [],
      "source": [
        "tf.expand_dims(sample_cnn_input, axis=0)"
      ]
    },
    {
      "cell_type": "code",
      "execution_count": null,
      "metadata": {
        "id": "R6nhU3Qft8i2"
      },
      "outputs": [],
      "source": [
        "sample_seq_input = table.lookup(tf.constant(captions_df[\"input_sequence_caption\"].iloc[train_size + 700]))\n",
        "sample_seq_input"
      ]
    },
    {
      "cell_type": "code",
      "execution_count": null,
      "metadata": {
        "id": "UQQQwODlt8i2"
      },
      "outputs": [],
      "source": [
        "# 1 we feed the model expected output at previous time steps\n",
        "sample_prediction = model.predict((tf.expand_dims(sample_cnn_input, axis=0),\n",
        "                                   tf.expand_dims(sample_seq_input, axis=0)))"
      ]
    },
    {
      "cell_type": "code",
      "execution_count": null,
      "metadata": {
        "id": "PauNxTTHt8i2"
      },
      "outputs": [],
      "source": [
        "sample_prediction.shape"
      ]
    },
    {
      "cell_type": "code",
      "execution_count": null,
      "metadata": {
        "id": "bsuqiXAit8i3"
      },
      "outputs": [],
      "source": [
        "np.argmax(sample_prediction, axis=2).tolist()"
      ]
    },
    {
      "cell_type": "code",
      "execution_count": null,
      "metadata": {
        "id": "NR4QHp7Rt8i4"
      },
      "outputs": [],
      "source": [
        "[id_to_word[id_] for id_ in np.argmax(sample_prediction, axis=2).tolist()[0]]"
      ]
    },
    {
      "cell_type": "code",
      "execution_count": null,
      "metadata": {
        "id": "uUeFUxYat8i5"
      },
      "outputs": [],
      "source": [
        "# 2 we first feed the cnn_inputs, then <bos> token, then its own output at the previous step"
      ]
    },
    {
      "cell_type": "code",
      "execution_count": null,
      "metadata": {
        "id": "mtR0pKtjt8i5"
      },
      "outputs": [],
      "source": [
        "sample_seq_input = table.lookup(tf.constant(captions_df[\"input_sequence_caption\"].iloc[train_size + 700]))\n",
        "sample_seq_input"
      ]
    },
    {
      "cell_type": "code",
      "execution_count": null,
      "metadata": {
        "id": "mm680L5Ft8i5"
      },
      "outputs": [],
      "source": [
        "# add a lot of padding to the cnn input, so that there's enough padding until the model outputs <eos> token\n",
        "sample_cnn_input_unlim = get_padded_input_cnn(tf.constant(captions_df[\"videoID\"].iloc[train_size + 700]),\n",
        "                                              tf.constant(20))\n",
        "sample_cnn_input_unlim"
      ]
    },
    {
      "cell_type": "code",
      "execution_count": null,
      "metadata": {
        "id": "4KKIP0lgt8i6"
      },
      "outputs": [],
      "source": [
        "captions_df[\"Number_of_frames\"].iloc[train_size + 700]"
      ]
    },
    {
      "cell_type": "code",
      "execution_count": null,
      "metadata": {
        "id": "FG5eXIelt8i6"
      },
      "outputs": [],
      "source": [
        "table.lookup(\n",
        "    tf.constant(\n",
        "        append_bos_token(\n",
        "            padding_part_of_caption_sequence(\n",
        "                captions_df[\"Number_of_frames\"].iloc[train_size + 700]\n",
        "            )\n",
        "        )\n",
        "    )\n",
        ")"
      ]
    },
    {
      "cell_type": "code",
      "execution_count": null,
      "metadata": {
        "id": "jSUF5R95t8i8"
      },
      "outputs": [],
      "source": [
        "input_seq = table.lookup(\n",
        "    tf.constant(\n",
        "        append_bos_token(\n",
        "            padding_part_of_caption_sequence(\n",
        "                captions_df[\"Number_of_frames\"].iloc[train_size + 700]\n",
        "            )\n",
        "        )\n",
        "    )\n",
        ")\n",
        "input_seq"
      ]
    },
    {
      "cell_type": "code",
      "execution_count": null,
      "metadata": {
        "id": "aflkKz92t8i8"
      },
      "outputs": [],
      "source": [
        "one_step_prediction = model.predict(\n",
        "    (\n",
        "        tf.expand_dims(sample_cnn_input_unlim[:8], axis=0),\n",
        "        tf.expand_dims(input_seq, axis=0),\n",
        "    )\n",
        ")"
      ]
    },
    {
      "cell_type": "code",
      "execution_count": null,
      "metadata": {
        "id": "cF1T150mt8i9"
      },
      "outputs": [],
      "source": [
        "one_step_prediction.shape"
      ]
    },
    {
      "cell_type": "code",
      "execution_count": null,
      "metadata": {
        "id": "yjmEHBP8-20Z"
      },
      "outputs": [],
      "source": [
        "np.argmax(one_step_prediction, axis=2)"
      ]
    },
    {
      "cell_type": "code",
      "execution_count": null,
      "metadata": {
        "id": "q0E39kGZt8i9"
      },
      "outputs": [],
      "source": [
        "next_predicted_token = np.argmax(one_step_prediction, axis=2)[0][-1]\n",
        "next_predicted_token"
      ]
    },
    {
      "cell_type": "code",
      "execution_count": null,
      "metadata": {
        "id": "YmAWZjzxt8i-"
      },
      "outputs": [],
      "source": [
        "next_predicted_token = tf.cast(tf.constant([next_predicted_token]), tf.int32)\n",
        "next_predicted_token"
      ]
    },
    {
      "cell_type": "code",
      "execution_count": null,
      "metadata": {
        "id": "X6dCOf4Jt8i-"
      },
      "outputs": [],
      "source": [
        "input_seq = tf.cast(input_seq, tf.int32)\n",
        "input_seq"
      ]
    },
    {
      "cell_type": "code",
      "execution_count": null,
      "metadata": {
        "id": "sju7h57at8i_",
        "scrolled": true
      },
      "outputs": [],
      "source": [
        "input_seq_with_new = tf.concat([input_seq, next_predicted_token], axis=-1)\n",
        "input_seq_with_new"
      ]
    },
    {
      "cell_type": "code",
      "execution_count": null,
      "metadata": {
        "id": "qlKwVLnzt8i_"
      },
      "outputs": [],
      "source": [
        "one_more_step_prediction = model.predict(\n",
        "    (\n",
        "        tf.expand_dims(sample_cnn_input_unlim[:9], axis=0),\n",
        "        tf.expand_dims(input_seq_with_new, axis=0),\n",
        "    )\n",
        ")"
      ]
    },
    {
      "cell_type": "code",
      "execution_count": null,
      "metadata": {
        "id": "tjhGcKW7t8jA"
      },
      "outputs": [],
      "source": [
        "one_more_step_prediction.shape"
      ]
    },
    {
      "cell_type": "code",
      "execution_count": null,
      "metadata": {
        "id": "SYezlhDat8jA"
      },
      "outputs": [],
      "source": [
        "np.argmax(one_more_step_prediction, axis=2)[0][-1]"
      ]
    },
    {
      "cell_type": "code",
      "execution_count": null,
      "metadata": {
        "id": "CLXFWwNKt8jB"
      },
      "outputs": [],
      "source": [
        "id_to_word[120]"
      ]
    },
    {
      "cell_type": "code",
      "execution_count": null,
      "metadata": {
        "id": "QgamrLO5t8jB"
      },
      "outputs": [],
      "source": [
        "sample_cnn_input_unlim = get_padded_input_cnn(tf.constant(captions_df[\"videoID\"].iloc[train_size + 16167]), tf.constant(20))\n",
        "sample_cnn_input_unlim"
      ]
    },
    {
      "cell_type": "code",
      "execution_count": null,
      "metadata": {
        "id": "rOUG4XS8t8jB"
      },
      "outputs": [],
      "source": [
        "input_seq = table.lookup(\n",
        "    tf.constant(\n",
        "        append_bos_token(\n",
        "            padding_part_of_caption_sequence(\n",
        "                captions_df[\"Number_of_frames\"].iloc[train_size + 16167]\n",
        "            )\n",
        "        )\n",
        "    )\n",
        ")\n",
        "\n",
        "initial_input_seq_length = len(input_seq)\n",
        "END_TOKEN = 2\n",
        "\n",
        "next_token = -1\n",
        "for i in range(20):\n",
        "    next_token = model.predict(\n",
        "        (\n",
        "            tf.expand_dims(sample_cnn_input_unlim[: len(input_seq)], axis=0),\n",
        "            tf.expand_dims(input_seq, axis=0),\n",
        "        )\n",
        "    )[0][-1].argmax()\n",
        "\n",
        "    if next_token == END_TOKEN:\n",
        "        break\n",
        "\n",
        "    input_seq = tf.concat(\n",
        "        [tf.cast(input_seq, tf.int32), tf.cast(tf.constant([next_token]), tf.int32)],\n",
        "        axis=-1,\n",
        "    )"
      ]
    },
    {
      "cell_type": "code",
      "execution_count": null,
      "metadata": {
        "id": "L_sDbRiFt8jB"
      },
      "outputs": [],
      "source": [
        "input_seq"
      ]
    },
    {
      "cell_type": "code",
      "execution_count": null,
      "metadata": {
        "id": "6dvLQDXBt8jC"
      },
      "outputs": [],
      "source": [
        "[id_to_word[id_] for id_ in input_seq[initial_input_seq_length:].numpy().tolist()]"
      ]
    },
    {
      "cell_type": "markdown",
      "metadata": {
        "id": "NM-ZKk7j31XC"
      },
      "source": [
        "# Beam Search"
      ]
    },
    {
      "cell_type": "code",
      "execution_count": null,
      "metadata": {
        "id": "1cSjExZ7YZwP"
      },
      "outputs": [],
      "source": [
        "80827 - 64660"
      ]
    },
    {
      "cell_type": "code",
      "execution_count": null,
      "metadata": {
        "id": "_W_8geaGc5O6"
      },
      "outputs": [],
      "source": [
        "captions_df[\"videoID\"].iloc[train_size + 16167]"
      ]
    },
    {
      "cell_type": "code",
      "execution_count": null,
      "metadata": {
        "id": "LZK9m4lHXJGc"
      },
      "outputs": [],
      "source": [
        "captions_df[captions_df['videoID']=='d'].index"
      ]
    },
    {
      "cell_type": "code",
      "execution_count": null,
      "metadata": {
        "id": "-FMb5TYv119Y"
      },
      "outputs": [],
      "source": [
        "id_to_word[len(id_to_word)] = \"<unk>\""
      ]
    },
    {
      "cell_type": "code",
      "execution_count": null,
      "metadata": {
        "id": "kn18d-Wd3_DQ"
      },
      "outputs": [],
      "source": [
        "def add_to_clipboard(text):\n",
        "    command = \"echo \" + text.strip() + \"| clip\"\n",
        "    os.system(command)"
      ]
    },
    {
      "cell_type": "code",
      "execution_count": null,
      "metadata": {
        "id": "VZ8Ussmw36XG"
      },
      "outputs": [],
      "source": [
        "increment_to_try = 16167  # increment_to_try += 30\n",
        "print(increment_to_try)\n",
        "print(captions_df[\"videoID\"].iloc[train_size + increment_to_try])\n",
        "add_to_clipboard(captions_df[\"videoID\"].iloc[train_size + increment_to_try])"
      ]
    },
    {
      "cell_type": "code",
      "execution_count": null,
      "metadata": {
        "id": "u--MgeLXbgCM"
      },
      "outputs": [],
      "source": [
        "# with probabilities\n",
        "beam_width = 10\n",
        "maximum_caption_length = 10\n",
        "\n",
        "sample_cnn_input_unlim = get_padded_input_cnn(\n",
        "    tf.constant(captions_df[\"videoID\"].iloc[train_size + increment_to_try]),\n",
        "    tf.constant(maximum_caption_length),\n",
        ")\n",
        "\n",
        "input_seq = table.lookup(\n",
        "    tf.constant(\n",
        "        append_bos_token(\n",
        "            padding_part_of_caption_sequence(\n",
        "                captions_df[\"Number_of_frames\"].iloc[train_size + increment_to_try]\n",
        "            )\n",
        "        )\n",
        "    )\n",
        ")"
      ]
    },
    {
      "cell_type": "code",
      "execution_count": null,
      "metadata": {
        "id": "eNrqKnCPhMsV"
      },
      "outputs": [],
      "source": [
        "initial_input_seq_length = len(input_seq)\n",
        "certainty_lists = [[] for _ in range(beam_width)]\n",
        "sentences = [input_seq for _ in range(beam_width)]\n",
        "sentence_probabilities = [1 for _ in range(beam_width)]\n",
        "END_TOKEN = 2"
      ]
    },
    {
      "cell_type": "code",
      "execution_count": null,
      "metadata": {
        "id": "tTQS9SPHLn4p"
      },
      "outputs": [],
      "source": [
        "np.unravel_index([5, 41, 37], (7,6))"
      ]
    },
    {
      "cell_type": "code",
      "execution_count": null,
      "metadata": {
        "id": "AR42EZG-4EBI"
      },
      "outputs": [],
      "source": [
        "for i in range(maximum_caption_length):\n",
        "    if i == 0:\n",
        "        prediction = model.predict(\n",
        "            (\n",
        "                tf.expand_dims(sample_cnn_input_unlim[: len(input_seq)], axis=0),\n",
        "                tf.expand_dims(input_seq, axis=0),\n",
        "            )\n",
        "        )[0][-1] # last token in sequence probability\n",
        "\n",
        "        next_tokens = prediction.argsort()[-beam_width:][::-1]\n",
        "        for j in range(beam_width):\n",
        "            sentences[j] = tf.concat(\n",
        "                [\n",
        "                    tf.cast(sentences[j], tf.int32),\n",
        "                    tf.cast(tf.constant([next_tokens[j]]), tf.int32),\n",
        "                ],\n",
        "                axis=-1,\n",
        "            )\n",
        "            sentence_probabilities[j] = (sentence_probabilities[j] * prediction[next_tokens[j]])\n",
        "            certainty_lists[j].append(prediction[next_tokens[j]])\n",
        "\n",
        "    if i > 0:\n",
        "        next_sentences = sentences.copy()\n",
        "        next_certainty_lists = [[] for _ in range(beam_width)]\n",
        "        next_token_probabilities = [[] for _ in range(beam_width)]\n",
        "        next_sentence_probabilities = [[] for _ in range(beam_width)]\n",
        "\n",
        "        for j in range(beam_width):\n",
        "            prediction = model.predict(\n",
        "                (\n",
        "                    tf.expand_dims(sample_cnn_input_unlim[: len(sentences[j])], axis=0),\n",
        "                    tf.expand_dims(sentences[j], axis=0),\n",
        "                )\n",
        "            )[0][-1]\n",
        "\n",
        "            next_sentence_probabilities[j] = prediction * sentence_probabilities[j]\n",
        "            next_token_probabilities[j] = prediction\n",
        "\n",
        "        # np.dstack make (concat, stack and block)\n",
        "        indices_of_most_probable_sentences = np.dstack(\n",
        "            np.unravel_index(\n",
        "                np.argsort(np.array(next_sentence_probabilities).ravel()),\n",
        "                (beam_width, vocab_size + num_oov_buckets),\n",
        "        ))[0][-beam_width:][::-1]   # shape before slice (1, #beam_width * #(vocab_size + num_oov_buckets), # beam_width)\n",
        "\n",
        "        for k in range(beam_width):\n",
        "            next_sentence_index = indices_of_most_probable_sentences[k][0]\n",
        "            next_token_index = indices_of_most_probable_sentences[k][1]\n",
        "            next_sentences[k] = tf.concat(\n",
        "                [\n",
        "                    tf.cast(sentences[next_sentence_index], tf.int32),\n",
        "                    tf.cast(tf.constant([next_token_index]), tf.int32),\n",
        "                ],\n",
        "                axis=-1,\n",
        "            )\n",
        "\n",
        "            sentence_probabilities[k] = next_sentence_probabilities[next_sentence_index][next_token_index]\n",
        "\n",
        "            next_certainty_lists[k] = certainty_lists[next_sentence_index].copy()\n",
        "            next_certainty_lists[k].append(next_token_probabilities[next_sentence_index][next_token_index])\n",
        "\n",
        "        sentences = next_sentences\n",
        "        certainty_lists = next_certainty_lists"
      ]
    },
    {
      "cell_type": "code",
      "execution_count": null,
      "metadata": {
        "id": "q4Y-1p6zunhq"
      },
      "outputs": [],
      "source": [
        "sentences[0][initial_input_seq_length:].numpy().tolist()"
      ]
    },
    {
      "cell_type": "code",
      "execution_count": null,
      "metadata": {
        "id": "zCkdpPmJ4FZe"
      },
      "outputs": [],
      "source": [
        "for i in range(beam_width):\n",
        "    try:\n",
        "        stop_index = sentences[i][initial_input_seq_length:].numpy().tolist().index(END_TOKEN)\n",
        "        predicted_caption = [id_to_word[id_] for id_ in sentences[i][initial_input_seq_length:]\n",
        "                            .numpy().tolist()[:stop_index]]\n",
        "    except:\n",
        "        predicted_caption = [id_to_word[id_] for id_ in sentences[i][initial_input_seq_length:]\n",
        "                            .numpy().tolist()]\n",
        "\n",
        "    print(predicted_caption)\n",
        "    print(\"Sentence probability:\", sentence_probabilities[i], '\\n')\n",
        "\n",
        "    for word, certainty in zip(predicted_caption, certainty_lists[i]):\n",
        "        print(word, '\\t', certainty)\n",
        "    print(\"\\n\")"
      ]
    },
    {
      "cell_type": "code",
      "execution_count": null,
      "metadata": {
        "id": "BmUdsvqoZJks"
      },
      "outputs": [],
      "source": []
    }
  ],
  "metadata": {
    "accelerator": "GPU",
    "colab": {
      "provenance": [],
      "include_colab_link": true
    },
    "gpuClass": "standard",
    "interpreter": {
      "hash": "0fedbd03237c4841a14b50efbfd66476bd397e867548a8d33590bc43b97ae133"
    },
    "kernelspec": {
      "display_name": "Python 3.7.10 64-bit",
      "name": "python3"
    },
    "language_info": {
      "codemirror_mode": {
        "name": "ipython",
        "version": 3
      },
      "file_extension": ".py",
      "mimetype": "text/x-python",
      "name": "python",
      "nbconvert_exporter": "python",
      "pygments_lexer": "ipython3",
      "version": "3.8.12"
    }
  },
  "nbformat": 4,
  "nbformat_minor": 0
}